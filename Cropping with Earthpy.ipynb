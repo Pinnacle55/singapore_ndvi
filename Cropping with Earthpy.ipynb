{
 "cells": [
  {
   "cell_type": "code",
   "execution_count": 5,
   "id": "b702f735",
   "metadata": {},
   "outputs": [
    {
     "data": {
      "image/svg+xml": [
       "<svg xmlns=\"http://www.w3.org/2000/svg\" xmlns:xlink=\"http://www.w3.org/1999/xlink\" width=\"300\" height=\"300\" viewBox=\"341955.92 127694.92 59051.16000000003 37726.15999999999\" preserveAspectRatio=\"xMinYMin meet\"><g transform=\"matrix(1,0,0,-1,0,293116.0)\"><path fill-rule=\"evenodd\" fill=\"#66cc99\" stroke=\"#555555\" stroke-width=\"393.6744000000002\" opacity=\"0.6\" d=\"M 398820.0,129882.0 L 398820.0,163234.0 L 344143.0,163234.0 L 344143.0,129882.0 L 398820.0,129882.0 z\" /></g></svg>"
      ],
      "text/plain": [
       "<POLYGON ((398820 129882, 398820 163234, 344143 163234, 344143 129882, 39882...>"
      ]
     },
     "execution_count": 5,
     "metadata": {},
     "output_type": "execute_result"
    }
   ],
   "source": [
    "import earthpy.spatial as es\n",
    "import numpy as np\n",
    "import os, sys\n",
    "import geopandas as gpd\n",
    "import rasterio as rio\n",
    "from shapely.geometry import box\n",
    "from glob import glob\n",
    "from tqdm import tqdm\n",
    "\n",
    "# Set target_shapefile to the appropriate coordinates\n",
    "# Create a box from the total_bounds of the shapefile\n",
    "target_shapefile = gpd.read_file(\"singapore_boundary.geojson\")\n",
    "target_shapefile = target_shapefile.to_crs(\"EPSG:32648\")\n",
    "xmin, ymin, xmax, ymax = target_shapefile.total_bounds\n",
    "target_shapefile = box(np.floor(xmin), np.floor(ymin), np.ceil(xmax), np.ceil(ymax))\n",
    "\n",
    "target_shapefile"
   ]
  },
  {
   "cell_type": "code",
   "execution_count": 20,
   "id": "990fb23c",
   "metadata": {},
   "outputs": [
    {
     "name": "stdout",
     "output_type": "stream",
     "text": [
      "CPU times: total: 0 ns\n",
      "Wall time: 0 ns\n"
     ]
    }
   ],
   "source": [
    "%%time\n",
    "### WORKED PERFECTLY ###\n",
    "\n",
    "def earthpy_cropper(target_dir, target_shapefile, cleanup = False):\n",
    "    '''\n",
    "    Crops all bands + the QA PIXEL band to the bounds of the specified shapefile\n",
    "    \n",
    "    target_dir: this should be a directory containing the folders with the LANDSAT data - provide full filepath\n",
    "    target_shapefile: this should be a shapely polygon. you can get this by using .total_bounds\n",
    "    cleanup: indicates whether the original raster files should be deleted. This will save a lot of disk space.\n",
    "    \n",
    "    returns a list of band_paths \n",
    "    '''\n",
    "    # List of scenes (in my case, target_dir is the year directory)\n",
    "    folder_list = os.listdir(target_dir)\n",
    "    \n",
    "    # ensure that only folders are listed\n",
    "    folder_list = [item for item in folder_list if os.path.isdir(os.path.join(target_dir, item))]\n",
    "    band_paths_list = []\n",
    "\n",
    "    # For all scenes in the folder...\n",
    "    for scene in tqdm(folder_list):\n",
    "        # ...creates output filepath\n",
    "        output_dir = os.path.join(\n",
    "            os.getcwd(), \n",
    "            target_dir,\n",
    "            scene\n",
    "        )\n",
    "\n",
    "        # ...finds all bands (this will not find bands with _crop.tif)\n",
    "        stack_band_paths = glob(\n",
    "            os.path.join(\n",
    "                os.getcwd(),\n",
    "                target_dir,\n",
    "                scene,\n",
    "                \"*B*[0-9].TIF\"\n",
    "            )\n",
    "        )\n",
    "        \n",
    "        # ...finds QA PIXEL band\n",
    "        stack_qa_paths = glob(\n",
    "            os.path.join(\n",
    "                os.getcwd(),\n",
    "                target_dir,\n",
    "                scene,\n",
    "                \"*QA_PIXEL.TIF\"\n",
    "            )\n",
    "        )\n",
    "\n",
    "        paths_to_crop = stack_band_paths + stack_qa_paths\n",
    "\n",
    "        # This function will crop all of the specified bands and write them into the specified output \n",
    "        # directory. it returns a list of file paths which you can then use as the input for es.stack \n",
    "        # in order to stack the bands into a multi band raster.\n",
    "\n",
    "        # note that this expects a list of polygons, so you need to put it in a list even if its just the\n",
    "        # one polygon\n",
    "        band_paths = es.crop_all(\n",
    "            paths_to_crop, output_dir, [target_shapefile], overwrite=True\n",
    "        )\n",
    "        \n",
    "        band_paths_list.append(band_paths)\n",
    "\n",
    "        # do this to delete original files to save space\n",
    "        # only uncomment if you are SURE YOU WANT TO DO THIS\n",
    "        if cleanup:\n",
    "            for file in paths_to_crop:\n",
    "                os.remove(file)\n",
    "    \n",
    "    # Using the band parts returned by the es.crop_all function, we can create multiband rasters in \n",
    "    # their respective folders using a single command\n",
    "    \n",
    "    # band paths list contains a list of all cropped filepaths PER SCENE which can use es.stack to make a stacked raster\n",
    "    for scene in band_paths_list:\n",
    "        # This outputs the data into the data_cloud_imputing folder\n",
    "        # a bit wrong but its fine\n",
    "\n",
    "        out_path = os.path.join(target_dir, f\"{os.path.dirname(scene[0])}_STACKED.tif\")\n",
    "        \n",
    "        # Note that we use folder[:-1] - we don't want to stack the QA PIXEL raster        \n",
    "        stack, metadata = es.stack(scene[:-1], out_path = out_path)\n",
    "    \n",
    "    return band_paths_list"
   ]
  },
  {
   "cell_type": "code",
   "execution_count": 21,
   "id": "80939c57",
   "metadata": {},
   "outputs": [
    {
     "name": "stdout",
     "output_type": "stream",
     "text": [
      "Cropping 2013\n"
     ]
    },
    {
     "name": "stderr",
     "output_type": "stream",
     "text": [
      "100%|████████████████████████████████████████████████████████████████████████████████████| 2/2 [00:01<00:00,  1.83it/s]\n"
     ]
    },
    {
     "name": "stdout",
     "output_type": "stream",
     "text": [
      "Cropping 2014\n"
     ]
    },
    {
     "name": "stderr",
     "output_type": "stream",
     "text": [
      "100%|████████████████████████████████████████████████████████████████████████████████████| 7/7 [00:05<00:00,  1.23it/s]\n"
     ]
    },
    {
     "name": "stdout",
     "output_type": "stream",
     "text": [
      "Cropping 2015\n"
     ]
    },
    {
     "name": "stderr",
     "output_type": "stream",
     "text": [
      "100%|████████████████████████████████████████████████████████████████████████████████████| 6/6 [00:06<00:00,  1.08s/it]\n"
     ]
    },
    {
     "name": "stdout",
     "output_type": "stream",
     "text": [
      "Cropping 2016\n"
     ]
    },
    {
     "name": "stderr",
     "output_type": "stream",
     "text": [
      "100%|████████████████████████████████████████████████████████████████████████████████████| 8/8 [00:07<00:00,  1.13it/s]\n"
     ]
    },
    {
     "name": "stdout",
     "output_type": "stream",
     "text": [
      "Cropping 2017\n"
     ]
    },
    {
     "name": "stderr",
     "output_type": "stream",
     "text": [
      "100%|████████████████████████████████████████████████████████████████████████████████████| 5/5 [00:08<00:00,  1.61s/it]\n"
     ]
    },
    {
     "name": "stdout",
     "output_type": "stream",
     "text": [
      "Cropping 2018\n"
     ]
    },
    {
     "name": "stderr",
     "output_type": "stream",
     "text": [
      "100%|████████████████████████████████████████████████████████████████████████████████████| 5/5 [00:04<00:00,  1.02it/s]\n"
     ]
    },
    {
     "name": "stdout",
     "output_type": "stream",
     "text": [
      "Cropping 2019\n"
     ]
    },
    {
     "name": "stderr",
     "output_type": "stream",
     "text": [
      "100%|████████████████████████████████████████████████████████████████████████████████████| 6/6 [00:06<00:00,  1.08s/it]\n"
     ]
    },
    {
     "name": "stdout",
     "output_type": "stream",
     "text": [
      "Cropping 2020\n"
     ]
    },
    {
     "name": "stderr",
     "output_type": "stream",
     "text": [
      "100%|████████████████████████████████████████████████████████████████████████████████████| 4/4 [00:05<00:00,  1.37s/it]\n"
     ]
    },
    {
     "name": "stdout",
     "output_type": "stream",
     "text": [
      "Cropping 2021\n"
     ]
    },
    {
     "name": "stderr",
     "output_type": "stream",
     "text": [
      "100%|████████████████████████████████████████████████████████████████████████████████████| 5/5 [00:05<00:00,  1.18s/it]\n"
     ]
    },
    {
     "name": "stdout",
     "output_type": "stream",
     "text": [
      "Cropping 2022\n"
     ]
    },
    {
     "name": "stderr",
     "output_type": "stream",
     "text": [
      "100%|████████████████████████████████████████████████████████████████████████████████████| 6/6 [00:05<00:00,  1.15it/s]\n"
     ]
    },
    {
     "name": "stdout",
     "output_type": "stream",
     "text": [
      "CPU times: total: 32.8 s\n",
      "Wall time: 1min 14s\n"
     ]
    }
   ],
   "source": [
    "%%time\n",
    "### works great! probs needs some adjustment so that it can work with any folder config but otherwise its really good\n",
    "year_list = os.listdir(\"./data_collated\")\n",
    "\n",
    "year_list = [os.path.join(os.getcwd(), \"data_collated\", year) for year in year_list]\n",
    "\n",
    "for year in year_list:\n",
    "    print(f\"Cropping {os.path.basename(year)}\")\n",
    "    earthpy_cropper(year, target_shapefile, cleanup = True)"
   ]
  },
  {
   "cell_type": "code",
   "execution_count": 11,
   "id": "a85f9d5a",
   "metadata": {},
   "outputs": [
    {
     "name": "stdout",
     "output_type": "stream",
     "text": [
      "['LC08_L2SP_125059_20130424_20200912_02_T1', 'LC08_L2SP_125059_20130627_20200912_02_T1', 'LC08_L2SP_125059_20130627_20200912_02_T1_thumb_large.jpeg', 'LC08_L2SP_125059_20130627_20200912_02_T1_thumb_small.jpeg']\n",
      "['LC08_L2SP_125059_20130424_20200912_02_T1', 'LC08_L2SP_125059_20130627_20200912_02_T1']\n"
     ]
    }
   ],
   "source": [
    "### testing ###\n",
    "# target_dir = 'C:\\\\Users\\\\Jonny\\\\Desktop\\\\Jupyter Projects\\\\Singapore NDVI\\\\data_collated\\\\2013'\n",
    "# folder_list = os.listdir(target_dir)\n",
    "# print(folder_list)\n",
    "# folder_list = [item for item in folder_list if os.path.isdir(os.path.join(target_dir, item))]\n",
    "# print(folder_list)"
   ]
  },
  {
   "cell_type": "code",
   "execution_count": 18,
   "id": "a4c07846",
   "metadata": {},
   "outputs": [
    {
     "data": {
      "text/plain": [
       "['C:\\\\Users\\\\Jonny\\\\Desktop\\\\Jupyter Projects\\\\Singapore NDVI\\\\data_collated\\\\2013\\\\LC08_L2SP_125059_20130424_20200912_02_T1\\\\LC08_L2SP_125059_20130424_20200912_02_T1_SR_B1.TIF',\n",
       " 'C:\\\\Users\\\\Jonny\\\\Desktop\\\\Jupyter Projects\\\\Singapore NDVI\\\\data_collated\\\\2013\\\\LC08_L2SP_125059_20130424_20200912_02_T1\\\\LC08_L2SP_125059_20130424_20200912_02_T1_SR_B2.TIF',\n",
       " 'C:\\\\Users\\\\Jonny\\\\Desktop\\\\Jupyter Projects\\\\Singapore NDVI\\\\data_collated\\\\2013\\\\LC08_L2SP_125059_20130424_20200912_02_T1\\\\LC08_L2SP_125059_20130424_20200912_02_T1_SR_B3.TIF',\n",
       " 'C:\\\\Users\\\\Jonny\\\\Desktop\\\\Jupyter Projects\\\\Singapore NDVI\\\\data_collated\\\\2013\\\\LC08_L2SP_125059_20130424_20200912_02_T1\\\\LC08_L2SP_125059_20130424_20200912_02_T1_SR_B4.TIF',\n",
       " 'C:\\\\Users\\\\Jonny\\\\Desktop\\\\Jupyter Projects\\\\Singapore NDVI\\\\data_collated\\\\2013\\\\LC08_L2SP_125059_20130424_20200912_02_T1\\\\LC08_L2SP_125059_20130424_20200912_02_T1_SR_B5.TIF',\n",
       " 'C:\\\\Users\\\\Jonny\\\\Desktop\\\\Jupyter Projects\\\\Singapore NDVI\\\\data_collated\\\\2013\\\\LC08_L2SP_125059_20130424_20200912_02_T1\\\\LC08_L2SP_125059_20130424_20200912_02_T1_SR_B6.TIF',\n",
       " 'C:\\\\Users\\\\Jonny\\\\Desktop\\\\Jupyter Projects\\\\Singapore NDVI\\\\data_collated\\\\2013\\\\LC08_L2SP_125059_20130424_20200912_02_T1\\\\LC08_L2SP_125059_20130424_20200912_02_T1_SR_B7.TIF',\n",
       " 'C:\\\\Users\\\\Jonny\\\\Desktop\\\\Jupyter Projects\\\\Singapore NDVI\\\\data_collated\\\\2013\\\\LC08_L2SP_125059_20130424_20200912_02_T1\\\\LC08_L2SP_125059_20130424_20200912_02_T1_ST_B10.TIF']"
      ]
     },
     "execution_count": 18,
     "metadata": {},
     "output_type": "execute_result"
    }
   ],
   "source": [
    "### testing ###\n",
    "# # ...finds all bands\n",
    "# stack_band_paths = glob(\n",
    "#     os.path.join(\n",
    "#         os.getcwd(),\n",
    "#         target_dir,\n",
    "#         'LC08_L2SP_125059_20130424_20200912_02_T1',\n",
    "#         \"*B*[0-9].TIF\"\n",
    "#     )\n",
    "# ) \n",
    "\n",
    "# stack_band_paths"
   ]
  },
  {
   "cell_type": "code",
   "execution_count": null,
   "id": "646c33d5",
   "metadata": {},
   "outputs": [],
   "source": [
    "# Using the band parts returned by the es.crop_all function, we can create multiband rasters in \n",
    "# their respective folders using a single command\n",
    "for folder in band_paths:\n",
    "    # This outputs the data into the data_cloud_imputing folder\n",
    "    # a bit wrong but its fine\n",
    "    \n",
    "    # Note that we use folder[:-1] - we don't want to stack the QA PIXEL raster\n",
    "    stack, metadata = es.stack(folder[:-1], out_path = f\"{os.path.dirname(folder[0])}_STACKED.tif\")"
   ]
  },
  {
   "cell_type": "code",
   "execution_count": null,
   "id": "a37a231c",
   "metadata": {},
   "outputs": [],
   "source": [
    "# When you need to crop and stack a set of images, it is most efficient to first crop each image, and then stack it.\n",
    "# es.crop_all() is an efficient way to crop all bands in an image quickly. The function will write out cropped rasters\n",
    "# to a directory and return a list of file paths that can then be used with es.stack().\n",
    "\n",
    "# the following syntax can be used\n",
    "\n",
    "band_paths_list = es.crop_all(\n",
    "    stack_band_paths, output_dir, target_shapefile, overwrite=True\n",
    ")\n",
    "\n",
    "# band_paths_list is a list of all filepaths created by the crop_all function\n",
    "# stack_band_paths is a list of all filepaths to be cropped\n",
    "# output_dir (string) is the output directory in which the cropped files will be returned; all images \n",
    "# produced will have the _crop suffix\n",
    "# crop_bound is a geojson object of the bounds of the area of interest - as always, note that\n",
    "# they must be in the same CRS - note that this takes in a geopandas dataframe\n",
    "# overwrite will force overwrite any existing cropped files"
   ]
  },
  {
   "cell_type": "code",
   "execution_count": null,
   "id": "fd05d34c",
   "metadata": {},
   "outputs": [],
   "source": []
  },
  {
   "cell_type": "code",
   "execution_count": null,
   "id": "99bd4a59",
   "metadata": {},
   "outputs": [],
   "source": [
    "# es.crop_image() can be used for single image cropping - it takes in a rasterio object and crops it to a specified geojson object"
   ]
  }
 ],
 "metadata": {
  "kernelspec": {
   "display_name": "Python [conda env:gdal_new]",
   "language": "python",
   "name": "conda-env-gdal_new-py"
  },
  "language_info": {
   "codemirror_mode": {
    "name": "ipython",
    "version": 3
   },
   "file_extension": ".py",
   "mimetype": "text/x-python",
   "name": "python",
   "nbconvert_exporter": "python",
   "pygments_lexer": "ipython3",
   "version": "3.11.5"
  },
  "varInspector": {
   "cols": {
    "lenName": 16,
    "lenType": 16,
    "lenVar": 40
   },
   "kernels_config": {
    "python": {
     "delete_cmd_postfix": "",
     "delete_cmd_prefix": "del ",
     "library": "var_list.py",
     "varRefreshCmd": "print(var_dic_list())"
    },
    "r": {
     "delete_cmd_postfix": ") ",
     "delete_cmd_prefix": "rm(",
     "library": "var_list.r",
     "varRefreshCmd": "cat(var_dic_list()) "
    }
   },
   "types_to_exclude": [
    "module",
    "function",
    "builtin_function_or_method",
    "instance",
    "_Feature"
   ],
   "window_display": false
  }
 },
 "nbformat": 4,
 "nbformat_minor": 5
}
