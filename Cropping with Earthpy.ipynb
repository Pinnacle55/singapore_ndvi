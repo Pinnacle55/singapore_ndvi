{
 "cells": [
  {
   "cell_type": "code",
   "execution_count": 23,
   "id": "b702f735",
   "metadata": {},
   "outputs": [
    {
     "data": {
      "image/svg+xml": [
       "<svg xmlns=\"http://www.w3.org/2000/svg\" xmlns:xlink=\"http://www.w3.org/1999/xlink\" width=\"300\" height=\"300\" viewBox=\"341955.92 127694.92 59051.16000000003 37726.15999999999\" preserveAspectRatio=\"xMinYMin meet\"><g transform=\"matrix(1,0,0,-1,0,293116.0)\"><path fill-rule=\"evenodd\" fill=\"#66cc99\" stroke=\"#555555\" stroke-width=\"393.6744000000002\" opacity=\"0.6\" d=\"M 398820.0,129882.0 L 398820.0,163234.0 L 344143.0,163234.0 L 344143.0,129882.0 L 398820.0,129882.0 z\" /></g></svg>"
      ],
      "text/plain": [
       "<POLYGON ((398820 129882, 398820 163234, 344143 163234, 344143 129882, 39882...>"
      ]
     },
     "execution_count": 23,
     "metadata": {},
     "output_type": "execute_result"
    }
   ],
   "source": [
    "import earthpy.spatial as es\n",
    "import numpy as np\n",
    "import os, sys\n",
    "import geopandas as gpd\n",
    "import rasterio as rio\n",
    "from shapely.geometry import box\n",
    "from glob import glob\n",
    "from tqdm import tqdm\n",
    "\n",
    "# Set target_shapefile to the appropriate coordinates\n",
    "# Create a box from the total_bounds of the shapefile\n",
    "target_shapefile = gpd.read_file(\"singapore_boundary.geojson\")\n",
    "target_shapefile = target_shapefile.to_crs(\"EPSG:32648\")\n",
    "xmin, ymin, xmax, ymax = target_shapefile.total_bounds\n",
    "target_shapefile = box(np.floor(xmin), np.floor(ymin), np.ceil(xmax), np.ceil(ymax))\n",
    "\n",
    "target_shapefile"
   ]
  },
  {
   "cell_type": "code",
   "execution_count": 25,
   "id": "49479f3c",
   "metadata": {},
   "outputs": [
    {
     "name": "stderr",
     "output_type": "stream",
     "text": [
      "100%|████████████████████████████████████████████████████████████████████████████████████| 3/3 [00:01<00:00,  1.95it/s]"
     ]
    },
    {
     "name": "stdout",
     "output_type": "stream",
     "text": [
      "CPU times: total: 1.14 s\n",
      "Wall time: 1.54 s\n"
     ]
    },
    {
     "name": "stderr",
     "output_type": "stream",
     "text": [
      "\n"
     ]
    }
   ],
   "source": [
    "%%time\n",
    "### WORKED PERFECTLY ###\n",
    "\n",
    "# List of scenes\n",
    "folder_list = os.listdir(\"./data_cloud_imputing\")\n",
    "band_paths_list = []\n",
    "\n",
    "# Find all bands in \n",
    "for scene in tqdm(folder_list):\n",
    "    output_dir = os.path.join(\n",
    "        os.getcwd(), \n",
    "        \"data_cloud_imputing\",\n",
    "        scene\n",
    "    )\n",
    "    \n",
    "    stack_band_paths = glob(\n",
    "        os.path.join(\n",
    "            os.getcwd(),\n",
    "            \"data_cloud_imputing\",\n",
    "            scene,\n",
    "            \"*B*.TIF\"\n",
    "        )\n",
    "    )\n",
    "    \n",
    "    stack_qa_paths = glob(\n",
    "        os.path.join(\n",
    "            os.getcwd(),\n",
    "            \"data_cloud_imputing\",\n",
    "            scene,\n",
    "            \"*QA_PIXEL.TIF\"\n",
    "        )\n",
    "    )\n",
    "\n",
    "    paths_to_crop = stack_band_paths + stack_qa_paths\n",
    "    \n",
    "    # This function will crop all of the specified bands and write them into the specified output \n",
    "    # directory. it returns a list of file paths which you can then use as the input for es.stack \n",
    "    # in order to stack the bands into a multi band raster.\n",
    "    \n",
    "    # note that this expects a list of polygons, so you need to put it in a list even if its just the\n",
    "    # one polygon\n",
    "    band_paths = es.crop_all(\n",
    "        paths_to_crop, output_dir, [target_shapefile], overwrite=True\n",
    "    )\n",
    "    \n",
    "    band_paths_list.append(band_paths)\n",
    "    \n",
    "#     # do this to delete original files to save space\n",
    "#     # only uncomment if you are SURE YOU WANT TO DO THIS\n",
    "#     for file in paths_to_crop:\n",
    "#         os.remove(file)"
   ]
  },
  {
   "cell_type": "code",
   "execution_count": 34,
   "id": "b45158ff",
   "metadata": {},
   "outputs": [],
   "source": [
    "# Using the band parts returned by the es.crop_all function, we can create multiband rasters in \n",
    "# their respective folders using a single command\n",
    "for folder in band_paths:\n",
    "    # This outputs the data into the data_cloud_imputing folder\n",
    "    # a bit wrong but its fine\n",
    "    stack, metadata = es.stack(folder[:-1], out_path = f\"{os.path.dirname(folder[0])}_STACKED.tif\")"
   ]
  },
  {
   "cell_type": "code",
   "execution_count": null,
   "id": "a59b46ee",
   "metadata": {},
   "outputs": [],
   "source": []
  },
  {
   "cell_type": "code",
   "execution_count": null,
   "id": "568802f1",
   "metadata": {},
   "outputs": [],
   "source": [
    "# When you need to crop and stack a set of images, it is most efficient to first crop each image, and then stack it.\n",
    "# es.crop_all() is an efficient way to crop all bands in an image quickly. The function will write out cropped rasters\n",
    "# to a directory and return a list of file paths that can then be used with es.stack().\n",
    "\n",
    "# the following syntax can be used\n",
    "\n",
    "band_paths_list = es.crop_all(\n",
    "    stack_band_paths, output_dir, target_shapefile, overwrite=True\n",
    ")\n",
    "\n",
    "# band_paths_list is a list of all filepaths created by the crop_all function\n",
    "# stack_band_paths is a list of all filepaths to be cropped\n",
    "# output_dir (string) is the output directory in which the cropped files will be returned; all images \n",
    "# produced will have the _crop suffix\n",
    "# crop_bound is a geojson object of the bounds of the area of interest - as always, note that\n",
    "# they must be in the same CRS - note that this takes in a geopandas dataframe\n",
    "# overwrite will force overwrite any existing cropped files"
   ]
  },
  {
   "cell_type": "code",
   "execution_count": null,
   "id": "716a183a",
   "metadata": {},
   "outputs": [],
   "source": []
  },
  {
   "cell_type": "code",
   "execution_count": null,
   "id": "99bd4a59",
   "metadata": {},
   "outputs": [],
   "source": [
    "# es.crop_image() can be used for single image cropping - it takes in a rasterio object and crops it to a specified geojson object"
   ]
  }
 ],
 "metadata": {
  "kernelspec": {
   "display_name": "Python [conda env:gdal_new]",
   "language": "python",
   "name": "conda-env-gdal_new-py"
  },
  "language_info": {
   "codemirror_mode": {
    "name": "ipython",
    "version": 3
   },
   "file_extension": ".py",
   "mimetype": "text/x-python",
   "name": "python",
   "nbconvert_exporter": "python",
   "pygments_lexer": "ipython3",
   "version": "3.11.5"
  },
  "varInspector": {
   "cols": {
    "lenName": 16,
    "lenType": 16,
    "lenVar": 40
   },
   "kernels_config": {
    "python": {
     "delete_cmd_postfix": "",
     "delete_cmd_prefix": "del ",
     "library": "var_list.py",
     "varRefreshCmd": "print(var_dic_list())"
    },
    "r": {
     "delete_cmd_postfix": ") ",
     "delete_cmd_prefix": "rm(",
     "library": "var_list.r",
     "varRefreshCmd": "cat(var_dic_list()) "
    }
   },
   "types_to_exclude": [
    "module",
    "function",
    "builtin_function_or_method",
    "instance",
    "_Feature"
   ],
   "window_display": false
  }
 },
 "nbformat": 4,
 "nbformat_minor": 5
}
