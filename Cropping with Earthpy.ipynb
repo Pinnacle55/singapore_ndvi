{
 "cells": [
  {
   "cell_type": "code",
   "execution_count": null,
   "id": "b702f735",
   "metadata": {},
   "outputs": [],
   "source": [
    "# Crop Each Band\n",
    "\n",
    "# When you need to crop and stack a set of images, it is most efficient to first crop each image, and then stack it.\n",
    "# es.crop_all() is an efficient way to crop all bands in an image quickly. The function will write out cropped rasters\n",
    "# to a directory and return a list of file paths that can then be used with es.stack().\n",
    "\n",
    "# the following syntax can be used\n",
    "\n",
    "band_paths_list = es.crop_all(\n",
    "    stack_band_paths, output_dir, crop_bound_utm13N, overwrite=True\n",
    ")\n",
    "\n",
    "# band_paths_list is a list of all filepaths created by the crop_all function\n",
    "# stack_band_paths is a list of all filepaths to be cropped\n",
    "# output_dir (string) is the output directory in which the cropped files will be returned; all images \n",
    "# produced will have the _crop suffix\n",
    "# crop_bound is a geojson object of the bounds of the area of interest - as always, note that they must be in the same CRS\n",
    "# overwrite will force overwrite any existing cropped files"
   ]
  },
  {
   "cell_type": "code",
   "execution_count": null,
   "id": "99bd4a59",
   "metadata": {},
   "outputs": [],
   "source": [
    "# es.crop_image() can be used for single image cropping - it takes in a rasterio object and crops it to a specified geojson object"
   ]
  }
 ],
 "metadata": {
  "kernelspec": {
   "display_name": "Python [conda env:gdal_new]",
   "language": "python",
   "name": "conda-env-gdal_new-py"
  },
  "language_info": {
   "codemirror_mode": {
    "name": "ipython",
    "version": 3
   },
   "file_extension": ".py",
   "mimetype": "text/x-python",
   "name": "python",
   "nbconvert_exporter": "python",
   "pygments_lexer": "ipython3",
   "version": "3.11.5"
  }
 },
 "nbformat": 4,
 "nbformat_minor": 5
}
