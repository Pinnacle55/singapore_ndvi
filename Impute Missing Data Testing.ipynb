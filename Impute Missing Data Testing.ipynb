{
 "cells": [
  {
   "cell_type": "code",
   "execution_count": 41,
   "id": "0a2f7928",
   "metadata": {},
   "outputs": [
    {
     "data": {
      "text/plain": [
       "array([[[ 1,  2,  3],\n",
       "        [ 4,  5,  6],\n",
       "        [ 7,  8,  9]],\n",
       "\n",
       "       [[10, 11, 12],\n",
       "        [13, 14, 15],\n",
       "        [16, 17, 18]]])"
      ]
     },
     "metadata": {},
     "output_type": "display_data"
    },
    {
     "data": {
      "text/plain": [
       "array([[[1., 0., 1.],\n",
       "        [0., 1., 0.],\n",
       "        [1., 0., 1.]],\n",
       "\n",
       "       [[0., 1., 0.],\n",
       "        [1., 0., 1.],\n",
       "        [0., 1., 0.]]])"
      ]
     },
     "metadata": {},
     "output_type": "display_data"
    },
    {
     "data": {
      "text/plain": [
       "masked_array(\n",
       "  data=[[[--, 2, --],\n",
       "         [4, --, 6],\n",
       "         [--, 8, --]],\n",
       "\n",
       "        [[10, --, 12],\n",
       "         [--, 14, --],\n",
       "         [16, --, 18]]],\n",
       "  mask=[[[ True, False,  True],\n",
       "         [False,  True, False],\n",
       "         [ True, False,  True]],\n",
       "\n",
       "        [[False,  True, False],\n",
       "         [ True, False,  True],\n",
       "         [False,  True, False]]],\n",
       "  fill_value=999999)"
      ]
     },
     "execution_count": 41,
     "metadata": {},
     "output_type": "execute_result"
    }
   ],
   "source": [
    "import numpy as np\n",
    "\n",
    "masked_test = np.arange(1,19).reshape(2,3,3)\n",
    "display(masked_test)\n",
    "\n",
    "mask = np.zeros(9)\n",
    "mask[::2] = 1\n",
    "mask1 = mask.reshape(3,3)\n",
    "\n",
    "mask = np.zeros(9)\n",
    "mask[1::2] = 1\n",
    "mask2 = mask.reshape(3,3)\n",
    "\n",
    "stacked_mask = np.stack((mask1, mask2))\n",
    "display(stacked_mask)\n",
    "\n",
    "# Mask needs to be duplicated\n",
    "masked_test = np.ma.masked_array(masked_test, stacked_mask)\n",
    "\n",
    "masked_test"
   ]
  },
  {
   "cell_type": "code",
   "execution_count": 42,
   "id": "63dd7bfc",
   "metadata": {},
   "outputs": [
    {
     "data": {
      "text/plain": [
       "masked_array(\n",
       "  data=[[[--, --, 7],\n",
       "         [--, --, 3],\n",
       "         [3, 7, 8]],\n",
       "\n",
       "        [[--, --, 8],\n",
       "         [--, --, 2],\n",
       "         [2, 5, 5]]],\n",
       "  mask=[[[ True,  True, False],\n",
       "         [ True,  True, False],\n",
       "         [False, False, False]],\n",
       "\n",
       "        [[ True,  True, False],\n",
       "         [ True,  True, False],\n",
       "         [False, False, False]]],\n",
       "  fill_value=999999)"
      ]
     },
     "execution_count": 42,
     "metadata": {},
     "output_type": "execute_result"
    }
   ],
   "source": [
    "fill_array = np.random.randint(1, 9, 18).reshape(2, 3,3)\n",
    "\n",
    "fill_mask = np.zeros(9).reshape(3,3)\n",
    "fill_mask[:2, :2] = 1\n",
    "fill_mask = np.stack((fill_mask, fill_mask))\n",
    "\n",
    "masked_fill_array = np.ma.masked_array(fill_array, fill_mask)\n",
    "\n",
    "# masked_fill_array = np.ma.filled(masked_fill_array.astype(np.float32), fill_value = np.nan)\n",
    "\n",
    "masked_fill_array"
   ]
  },
  {
   "cell_type": "code",
   "execution_count": 44,
   "id": "198fe795",
   "metadata": {},
   "outputs": [
    {
     "name": "stdout",
     "output_type": "stream",
     "text": [
      "masked_test:\n",
      " [[[-- 2 --]\n",
      "  [4 -- 6]\n",
      "  [-- 8 --]]\n",
      "\n",
      " [[10 -- 12]\n",
      "  [-- 14 --]\n",
      "  [16 -- 18]]]\n",
      "\n",
      "masked_fill_array:\n",
      " [[[-- -- 7]\n",
      "  [-- -- 3]\n",
      "  [3 7 8]]\n",
      "\n",
      " [[-- -- 8]\n",
      "  [-- -- 2]\n",
      "  [2 5 5]]]\n",
      "\n"
     ]
    },
    {
     "data": {
      "text/plain": [
       "array([[[nan,  2.,  7.],\n",
       "        [ 4., nan,  6.],\n",
       "        [ 3.,  8.,  8.]],\n",
       "\n",
       "       [[10., nan, 12.],\n",
       "        [nan, 14.,  2.],\n",
       "        [16.,  5., 18.]]], dtype=float32)"
      ]
     },
     "execution_count": 44,
     "metadata": {},
     "output_type": "execute_result"
    }
   ],
   "source": [
    "print(\"masked_test:\\n\", masked_test)\n",
    "print()\n",
    "print(\"masked_fill_array:\\n\", masked_fill_array)\n",
    "print()\n",
    "\n",
    "result = np.ma.filled(masked_test.astype(np.float32), \n",
    "                      np.ma.filled(masked_fill_array.astype(np.float32), fill_value = np.nan)\n",
    "                     )\n",
    "\n",
    "result"
   ]
  },
  {
   "cell_type": "code",
   "execution_count": 39,
   "id": "f04fea2c",
   "metadata": {},
   "outputs": [
    {
     "name": "stdout",
     "output_type": "stream",
     "text": [
      "masked_test:\n",
      " [[[-- 2 --]\n",
      "  [4 -- 6]\n",
      "  [-- 8 --]]\n",
      "\n",
      " [[10 -- 12]\n",
      "  [-- 14 --]\n",
      "  [16 -- 18]]]\n",
      "\n",
      "masked_fill_array:\n",
      " [[[nan nan  6.]\n",
      "  [nan nan  3.]\n",
      "  [ 2.  7.  6.]]\n",
      "\n",
      " [[nan nan  8.]\n",
      "  [nan nan  7.]\n",
      "  [ 4.  2.  7.]]]\n",
      "\n",
      "[[[nan  2.  6.]\n",
      "  [ 4. nan  6.]\n",
      "  [ 2.  8.  6.]]\n",
      "\n",
      " [[10. nan 12.]\n",
      "  [nan 14.  7.]\n",
      "  [16.  2. 18.]]]\n"
     ]
    }
   ],
   "source": [
    "print(\"masked_test:\\n\", masked_test)\n",
    "print()\n",
    "print(\"masked_fill_array:\\n\", masked_fill_array)\n",
    "print()\n",
    "# Note that \n",
    "result = np.ma.filled(masked_test.astype(np.float32), masked_fill_array)\n",
    "print(result)"
   ]
  },
  {
   "cell_type": "code",
   "execution_count": 40,
   "id": "e99994a8",
   "metadata": {},
   "outputs": [
    {
     "data": {
      "text/plain": [
       "masked_array(\n",
       "  data=[[[--, 2.0, 6.0],\n",
       "         [4.0, --, 6.0],\n",
       "         [2.0, 8.0, 6.0]],\n",
       "\n",
       "        [[10.0, --, 12.0],\n",
       "         [--, 14.0, 7.0],\n",
       "         [16.0, 2.0, 18.0]]],\n",
       "  mask=[[[ True, False, False],\n",
       "         [False,  True, False],\n",
       "         [False, False, False]],\n",
       "\n",
       "        [[False,  True, False],\n",
       "         [ True, False, False],\n",
       "         [False, False, False]]],\n",
       "  fill_value=1e+20,\n",
       "  dtype=float32)"
      ]
     },
     "execution_count": 40,
     "metadata": {},
     "output_type": "execute_result"
    }
   ],
   "source": [
    "result_mask = np.isnan(result)\n",
    "\n",
    "result = np.ma.masked_array(result, result_mask)\n",
    "\n",
    "result"
   ]
  },
  {
   "cell_type": "code",
   "execution_count": 18,
   "id": "f106bc1f",
   "metadata": {},
   "outputs": [
    {
     "data": {
      "text/plain": [
       "array([[[ 6,  2,  3],\n",
       "        [ 4,  1,  6],\n",
       "        [ 6,  8,  8]],\n",
       "\n",
       "       [[10,  8, 12],\n",
       "        [ 5, 14,  8],\n",
       "        [16,  8, 18]]])"
      ]
     },
     "execution_count": 18,
     "metadata": {},
     "output_type": "execute_result"
    }
   ],
   "source": [
    "# Impute missing values in the masked array with values from the replacement array\n",
    "# this works - use this method to fill clouds\n",
    "imputed_array = np.ma.filled(masked_test, masked_fill_array)\n",
    "\n",
    "imputed_array"
   ]
  },
  {
   "cell_type": "code",
   "execution_count": 24,
   "id": "b824e45f",
   "metadata": {},
   "outputs": [
    {
     "name": "stdout",
     "output_type": "stream",
     "text": [
      "[[1.0 2.0 --]\n",
      " [4.0 -- 6.0]\n",
      " [7.0 8.0 --]]\n",
      "\n",
      "[[9.0 10.0 --]\n",
      " [11.0 12.0 --]\n",
      " [13.0 14.0 15.0]]\n",
      "\n",
      "[[ 1.  2. nan]\n",
      " [ 4. 12.  6.]\n",
      " [ 7.  8. 15.]]\n"
     ]
    }
   ],
   "source": [
    "import numpy as np\n",
    "\n",
    "# Create two masked arrays a and b (replace these with your data)\n",
    "a = np.ma.masked_invalid([[1, 2, np.nan], [4, np.nan, 6], [7, 8, np.nan]])\n",
    "b = np.ma.masked_invalid([[9, 10, np.nan], [11, 12, np.nan], [13, 14, 15]])\n",
    "\n",
    "# Create a new array where missing data in a is filled by data in b\n",
    "result = np.ma.filled(a, b)\n",
    "\n",
    "print(a)\n",
    "print()\n",
    "print(b)\n",
    "print()\n",
    "# Print the resulting array\n",
    "print(result)"
   ]
  },
  {
   "cell_type": "code",
   "execution_count": 31,
   "id": "2d18a0b6",
   "metadata": {},
   "outputs": [
    {
     "name": "stdout",
     "output_type": "stream",
     "text": [
      "masked_test:\n",
      " [[[-- 2 --]\n",
      "  [4 -- 6]\n",
      "  [-- 8 --]]\n",
      "\n",
      " [[10 -- 12]\n",
      "  [-- 14 --]\n",
      "  [16 -- 18]]]\n",
      "\n",
      "masked_fill_array:\n",
      " [[[-- -- 3]\n",
      "  [-- -- 4]\n",
      "  [6 6 8]]\n",
      "\n",
      " [[-- -- 3]\n",
      "  [-- -- 8]\n",
      "  [8 8 8]]]\n",
      "\n",
      "[[[ 6  2  3]\n",
      "  [ 4  1  6]\n",
      "  [ 6  8  8]]\n",
      "\n",
      " [[10  8 12]\n",
      "  [ 5 14  8]\n",
      "  [16  8 18]]]\n"
     ]
    }
   ],
   "source": [
    "print(\"masked_test:\\n\", masked_test)\n",
    "print()\n",
    "print(\"masked_fill_array:\\n\", masked_fill_array)\n",
    "print()\n",
    "# Note that \n",
    "result = np.ma.filled(masked_test, masked_fill_array)\n",
    "print(result)"
   ]
  },
  {
   "cell_type": "code",
   "execution_count": 29,
   "id": "7a6b2738",
   "metadata": {},
   "outputs": [
    {
     "data": {
      "text/plain": [
       "masked_array(\n",
       "  data=[[1.0, 2.0, --],\n",
       "        [4.0, --, 6.0],\n",
       "        [7.0, 8.0, --]],\n",
       "  mask=[[False, False,  True],\n",
       "        [False,  True, False],\n",
       "        [False, False,  True]],\n",
       "  fill_value=1e+20)"
      ]
     },
     "execution_count": 29,
     "metadata": {},
     "output_type": "execute_result"
    }
   ],
   "source": [
    "a"
   ]
  },
  {
   "cell_type": "code",
   "execution_count": null,
   "id": "464b2e70",
   "metadata": {},
   "outputs": [],
   "source": []
  }
 ],
 "metadata": {
  "kernelspec": {
   "display_name": "Python [conda env:gdal_new]",
   "language": "python",
   "name": "conda-env-gdal_new-py"
  },
  "language_info": {
   "codemirror_mode": {
    "name": "ipython",
    "version": 3
   },
   "file_extension": ".py",
   "mimetype": "text/x-python",
   "name": "python",
   "nbconvert_exporter": "python",
   "pygments_lexer": "ipython3",
   "version": "3.11.5"
  },
  "varInspector": {
   "cols": {
    "lenName": 16,
    "lenType": 16,
    "lenVar": 40
   },
   "kernels_config": {
    "python": {
     "delete_cmd_postfix": "",
     "delete_cmd_prefix": "del ",
     "library": "var_list.py",
     "varRefreshCmd": "print(var_dic_list())"
    },
    "r": {
     "delete_cmd_postfix": ") ",
     "delete_cmd_prefix": "rm(",
     "library": "var_list.r",
     "varRefreshCmd": "cat(var_dic_list()) "
    }
   },
   "types_to_exclude": [
    "module",
    "function",
    "builtin_function_or_method",
    "instance",
    "_Feature"
   ],
   "window_display": false
  }
 },
 "nbformat": 4,
 "nbformat_minor": 5
}
