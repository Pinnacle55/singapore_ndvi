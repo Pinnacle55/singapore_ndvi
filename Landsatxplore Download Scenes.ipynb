{
 "cells": [
  {
   "cell_type": "code",
   "execution_count": 1,
   "id": "8e1390a3",
   "metadata": {
    "scrolled": false
   },
   "outputs": [],
   "source": [
    "from landsatxplore.api import API\n",
    "from glob import glob\n",
    "import os, sys"
   ]
  },
  {
   "cell_type": "code",
   "execution_count": 2,
   "id": "61443657",
   "metadata": {},
   "outputs": [],
   "source": [
    "# Initialize a new API instance and get an access key\n",
    "api = API(\"pinnacle55\", \"KM89xq6rSRZ6zJP\")"
   ]
  },
  {
   "cell_type": "code",
   "execution_count": 3,
   "id": "b3d66eb8",
   "metadata": {},
   "outputs": [],
   "source": [
    "# list of years to search\n",
    "years = range(2013, 2023)\n",
    "\n",
    "scene_dict = {}\n",
    "\n",
    "for year in years:\n",
    "\n",
    "    # Search for Landsat TM scenes\n",
    "    scenes = api.search(\n",
    "        dataset='landsat_ot_c2_l2',\n",
    "        latitude=1.3521,\n",
    "        longitude=103.8198,\n",
    "        start_date=f'{year}-02-01', # rainy season ends in Jan, this should be mostly cloudless\n",
    "        end_date=f'{year}-08-01',\n",
    "        max_cloud_cover=40\n",
    "    )\n",
    "    \n",
    "    # sort scenes by amount of cloud cover\n",
    "    scenes = sorted(scenes, key = lambda x: x[\"cloud_cover\"])\n",
    "    \n",
    "    # store scenes in dictionary\n",
    "    scene_dict[str(year)] = scenes\n",
    "\n"
   ]
  },
  {
   "cell_type": "code",
   "execution_count": 5,
   "id": "bcaf6bb6",
   "metadata": {},
   "outputs": [
    {
     "name": "stdout",
     "output_type": "stream",
     "text": [
      "2013 2\n",
      "2014 7\n",
      "2015 6\n",
      "2016 8\n",
      "2017 6\n",
      "2018 5\n",
      "2019 6\n",
      "2020 4\n",
      "2021 5\n",
      "2022 6\n"
     ]
    }
   ],
   "source": [
    "# check how many scenes per year\n",
    "# to avoid over downloading (each scene is ~1GB, set limit to 5 scenes per year)\n",
    "for key in scene_dict:\n",
    "    print(key, len(scene_dict[key]))"
   ]
  },
  {
   "cell_type": "code",
   "execution_count": 7,
   "id": "9bc0193a",
   "metadata": {
    "scrolled": true
   },
   "outputs": [
    {
     "name": "stdout",
     "output_type": "stream",
     "text": [
      "Downloading scenes in 2018.\n",
      "Attempting to download LC08_L1TP_125059_20180524_20200901_02_T1\n",
      "Download failed with dataset id 1 of 2. Re-trying with the next one.\n"
     ]
    },
    {
     "name": "stderr",
     "output_type": "stream",
     "text": [
      "100%|█████████████████████████████████████████████████████████████████████████████| 0.99G/0.99G [01:35<00:00, 11.1MB/s]\n"
     ]
    },
    {
     "name": "stdout",
     "output_type": "stream",
     "text": [
      "LC08_L1TP_125059_20180524_20200901_02_T1 downloaded successfully!\n",
      "Attempting to download LC08_L1TP_125059_20180508_20200901_02_T1\n",
      "Download failed with dataset id 1 of 2. Re-trying with the next one.\n"
     ]
    },
    {
     "name": "stderr",
     "output_type": "stream",
     "text": [
      "1.06GB [01:43, 11.0MB/s]                                                                                               \n"
     ]
    },
    {
     "name": "stdout",
     "output_type": "stream",
     "text": [
      "LC08_L1TP_125059_20180508_20200901_02_T1 downloaded successfully!\n",
      "Attempting to download LC08_L1TP_125059_20180727_20200831_02_T1\n",
      "Download failed with dataset id 1 of 2. Re-trying with the next one.\n"
     ]
    },
    {
     "name": "stderr",
     "output_type": "stream",
     "text": [
      "100%|█████████████████████████████████████████████████████████████████████████████| 1.08G/1.08G [01:43<00:00, 11.2MB/s]\n"
     ]
    },
    {
     "name": "stdout",
     "output_type": "stream",
     "text": [
      "LC08_L1TP_125059_20180727_20200831_02_T1 downloaded successfully!\n",
      "Attempting to download LC08_L1TP_125059_20180217_20200902_02_T1\n",
      "Download failed with dataset id 1 of 2. Re-trying with the next one.\n"
     ]
    },
    {
     "name": "stderr",
     "output_type": "stream",
     "text": [
      "1.09GB [01:50, 10.5MB/s]                                                                                               \n"
     ]
    },
    {
     "name": "stdout",
     "output_type": "stream",
     "text": [
      "LC08_L1TP_125059_20180217_20200902_02_T1 downloaded successfully!\n",
      "Attempting to download LC08_L1TP_125059_20180422_20200901_02_T1\n",
      "Download failed with dataset id 1 of 2. Re-trying with the next one.\n"
     ]
    },
    {
     "name": "stderr",
     "output_type": "stream",
     "text": [
      "1.14GB [01:54, 10.7MB/s]                                                                                               \n"
     ]
    },
    {
     "name": "stdout",
     "output_type": "stream",
     "text": [
      "LC08_L1TP_125059_20180422_20200901_02_T1 downloaded successfully!\n",
      "Downloading scenes in 2019.\n",
      "Attempting to download LC08_L1TP_125059_20190204_20200829_02_T1\n",
      "Download failed with dataset id 1 of 2. Re-trying with the next one.\n"
     ]
    },
    {
     "name": "stderr",
     "output_type": "stream",
     "text": [
      "100%|█████████████████████████████████████████████████████████████████████████████| 1.11G/1.11G [01:48<00:00, 11.0MB/s]\n"
     ]
    },
    {
     "name": "stdout",
     "output_type": "stream",
     "text": [
      "LC08_L1TP_125059_20190204_20200829_02_T1 downloaded successfully!\n",
      "Attempting to download LC08_L1TP_125059_20190527_20200828_02_T1\n",
      "Download failed with dataset id 1 of 2. Re-trying with the next one.\n"
     ]
    },
    {
     "name": "stderr",
     "output_type": "stream",
     "text": [
      "1.12GB [01:47, 11.2MB/s]                                                                                               \n"
     ]
    },
    {
     "name": "stdout",
     "output_type": "stream",
     "text": [
      "LC08_L1TP_125059_20190527_20200828_02_T1 downloaded successfully!\n",
      "Attempting to download LC08_L1TP_125059_20190730_20200827_02_T1\n",
      "Download failed with dataset id 1 of 2. Re-trying with the next one.\n"
     ]
    },
    {
     "name": "stderr",
     "output_type": "stream",
     "text": [
      "100%|█████████████████████████████████████████████████████████████████████████████| 1.15G/1.15G [01:52<00:00, 11.0MB/s]\n"
     ]
    },
    {
     "name": "stdout",
     "output_type": "stream",
     "text": [
      "LC08_L1TP_125059_20190730_20200827_02_T1 downloaded successfully!\n",
      "Attempting to download LC08_L1TP_125059_20190220_20200829_02_T1\n",
      "Download failed with dataset id 1 of 2. Re-trying with the next one.\n"
     ]
    },
    {
     "name": "stderr",
     "output_type": "stream",
     "text": [
      "100%|█████████████████████████████████████████████████████████████████████████████| 1.16G/1.16G [01:54<00:00, 10.9MB/s]\n"
     ]
    },
    {
     "name": "stdout",
     "output_type": "stream",
     "text": [
      "LC08_L1TP_125059_20190220_20200829_02_T1 downloaded successfully!\n",
      "Attempting to download LC08_L1TP_125059_20190714_20200827_02_T1\n",
      "Download failed with dataset id 1 of 2. Re-trying with the next one.\n"
     ]
    },
    {
     "name": "stderr",
     "output_type": "stream",
     "text": [
      "1.13GB [01:55, 10.4MB/s]                                                                                               \n"
     ]
    },
    {
     "name": "stdout",
     "output_type": "stream",
     "text": [
      "LC08_L1TP_125059_20190714_20200827_02_T1 downloaded successfully!\n",
      "Downloading scenes in 2020.\n",
      "Attempting to download LC08_L1TP_125059_20200716_20200911_02_T1\n",
      "Download failed with dataset id 1 of 2. Re-trying with the next one.\n"
     ]
    },
    {
     "name": "stderr",
     "output_type": "stream",
     "text": [
      "1.04GB [01:48, 10.3MB/s]                                                                                               \n"
     ]
    },
    {
     "name": "stdout",
     "output_type": "stream",
     "text": [
      "LC08_L1TP_125059_20200716_20200911_02_T1 downloaded successfully!\n",
      "Attempting to download LC08_L1TP_125059_20200310_20200822_02_T1\n",
      "Download failed with dataset id 1 of 2. Re-trying with the next one.\n"
     ]
    },
    {
     "name": "stderr",
     "output_type": "stream",
     "text": [
      "1.07GB [02:06, 9.09MB/s]                                                                                               \n"
     ]
    },
    {
     "name": "stdout",
     "output_type": "stream",
     "text": [
      "LC08_L1TP_125059_20200310_20200822_02_T1 downloaded successfully!\n",
      "Attempting to download LC08_L1TP_125059_20200529_20200820_02_T1\n",
      "Download failed with dataset id 1 of 2. Re-trying with the next one.\n"
     ]
    },
    {
     "name": "stderr",
     "output_type": "stream",
     "text": [
      "100%|█████████████████████████████████████████████████████████████████████████████| 1.13G/1.13G [02:24<00:00, 8.39MB/s]\n"
     ]
    },
    {
     "name": "stdout",
     "output_type": "stream",
     "text": [
      "LC08_L1TP_125059_20200529_20200820_02_T1 downloaded successfully!\n",
      "Attempting to download LC08_L1TP_125059_20200326_20200822_02_T1\n",
      "Download failed with dataset id 1 of 2. Re-trying with the next one.\n"
     ]
    },
    {
     "name": "stderr",
     "output_type": "stream",
     "text": [
      "1.13GB [01:56, 10.4MB/s]                                                                                               \n"
     ]
    },
    {
     "name": "stdout",
     "output_type": "stream",
     "text": [
      "LC08_L1TP_125059_20200326_20200822_02_T1 downloaded successfully!\n",
      "Downloading scenes in 2021.\n",
      "Attempting to download LC08_L1TP_125059_20210617_20210622_02_T1\n",
      "Download failed with dataset id 1 of 2. Re-trying with the next one.\n"
     ]
    },
    {
     "name": "stderr",
     "output_type": "stream",
     "text": [
      "100%|█████████████████████████████████████████████████████████████████████████████| 1.08G/1.08G [02:03<00:00, 9.40MB/s]\n"
     ]
    },
    {
     "name": "stdout",
     "output_type": "stream",
     "text": [
      "LC08_L1TP_125059_20210617_20210622_02_T1 downloaded successfully!\n",
      "Attempting to download LC08_L1TP_125059_20210703_20210712_02_T1\n",
      "Download failed with dataset id 1 of 2. Re-trying with the next one.\n"
     ]
    },
    {
     "name": "stderr",
     "output_type": "stream",
     "text": [
      "100%|█████████████████████████████████████████████████████████████████████████████| 1.08G/1.08G [01:41<00:00, 11.4MB/s]\n"
     ]
    },
    {
     "name": "stdout",
     "output_type": "stream",
     "text": [
      "LC08_L1TP_125059_20210703_20210712_02_T1 downloaded successfully!\n",
      "Attempting to download LC08_L1TP_125059_20210313_20210318_02_T1\n",
      "Download failed with dataset id 1 of 2. Re-trying with the next one.\n"
     ]
    },
    {
     "name": "stderr",
     "output_type": "stream",
     "text": [
      "1.16GB [02:02, 10.1MB/s]                                                                                               \n"
     ]
    },
    {
     "name": "stdout",
     "output_type": "stream",
     "text": [
      "LC08_L1TP_125059_20210313_20210318_02_T1 downloaded successfully!\n",
      "Attempting to download LC08_L1TP_125059_20210601_20210608_02_T1\n",
      "Download failed with dataset id 1 of 2. Re-trying with the next one.\n"
     ]
    },
    {
     "name": "stderr",
     "output_type": "stream",
     "text": [
      "1.19GB [02:41, 7.89MB/s]                                                                                               \n"
     ]
    },
    {
     "name": "stdout",
     "output_type": "stream",
     "text": [
      "LC08_L1TP_125059_20210601_20210608_02_T1 downloaded successfully!\n",
      "Attempting to download LC08_L1TP_125059_20210225_20210304_02_T1\n",
      "Download failed with dataset id 1 of 2. Re-trying with the next one.\n"
     ]
    },
    {
     "name": "stderr",
     "output_type": "stream",
     "text": [
      "100%|█████████████████████████████████████████████████████████████████████████████| 1.11G/1.11G [02:26<00:00, 8.11MB/s]\n"
     ]
    },
    {
     "name": "stdout",
     "output_type": "stream",
     "text": [
      "LC08_L1TP_125059_20210225_20210304_02_T1 downloaded successfully!\n",
      "Downloading scenes in 2022.\n",
      "Attempting to download LC08_L1TP_125059_20220401_20220406_02_T1\n",
      "Download failed with dataset id 1 of 2. Re-trying with the next one.\n"
     ]
    },
    {
     "name": "stderr",
     "output_type": "stream",
     "text": [
      "100%|█████████████████████████████████████████████████████████████████████████████| 1.06G/1.06G [02:01<00:00, 9.41MB/s]\n"
     ]
    },
    {
     "name": "stdout",
     "output_type": "stream",
     "text": [
      "LC08_L1TP_125059_20220401_20220406_02_T1 downloaded successfully!\n",
      "Attempting to download LC09_L1TP_125059_20220628_20230409_02_T1\n",
      "Download failed with dataset id 1 of 2. Re-trying with the next one.\n"
     ]
    },
    {
     "name": "stderr",
     "output_type": "stream",
     "text": [
      "100%|█████████████████████████████████████████████████████████████████████████████| 1.12G/1.12G [01:56<00:00, 10.3MB/s]\n"
     ]
    },
    {
     "name": "stdout",
     "output_type": "stream",
     "text": [
      "LC09_L1TP_125059_20220628_20230409_02_T1 downloaded successfully!\n",
      "Attempting to download LC08_L1TP_125059_20220417_20220420_02_T1\n",
      "Download failed with dataset id 1 of 2. Re-trying with the next one.\n"
     ]
    },
    {
     "name": "stderr",
     "output_type": "stream",
     "text": [
      "1.12GB [02:02, 9.80MB/s]                                                                                               \n"
     ]
    },
    {
     "name": "stdout",
     "output_type": "stream",
     "text": [
      "LC08_L1TP_125059_20220417_20220420_02_T1 downloaded successfully!\n",
      "Attempting to download LC09_L1TP_125059_20220324_20230424_02_T1\n",
      "Download failed with dataset id 1 of 2. Re-trying with the next one.\n"
     ]
    },
    {
     "name": "stderr",
     "output_type": "stream",
     "text": [
      "1.14GB [02:13, 9.18MB/s]                                                                                               \n"
     ]
    },
    {
     "name": "stdout",
     "output_type": "stream",
     "text": [
      "LC09_L1TP_125059_20220324_20230424_02_T1 downloaded successfully!\n",
      "Attempting to download LC09_L1TP_125059_20220730_20230405_02_T1\n",
      "Download failed with dataset id 1 of 2. Re-trying with the next one.\n"
     ]
    },
    {
     "name": "stderr",
     "output_type": "stream",
     "text": [
      "1.16GB [02:33, 8.11MB/s]                                                                                               \n"
     ]
    },
    {
     "name": "stdout",
     "output_type": "stream",
     "text": [
      "LC09_L1TP_125059_20220730_20230405_02_T1 downloaded successfully!\n"
     ]
    }
   ],
   "source": [
    "from landsatxplore.earthexplorer import EarthExplorer\n",
    "\n",
    "# Sign in to earthexplorer\n",
    "ee = EarthExplorer(\"pinnacle55\", \"KM89xq6rSRZ6zJP\")\n",
    "\n",
    "for key in years[5:]:\n",
    "    key = str(key)\n",
    "    \n",
    "    scene_count = 0\n",
    "    \n",
    "    print(f\"Downloading scenes in {key}.\")\n",
    "    \n",
    "    for scene in scene_dict[key]:     \n",
    "        \n",
    "        if os.path.exists(f\"./data_collated/{key}/{scene['landsat_product_id']}.tar\"):\n",
    "            print(f\"{scene['landsat_product_id']} downloaded successfully!\")\n",
    "            scene_count += 1\n",
    "\n",
    "        # Limit downloads to 5 scenes to save space\n",
    "        # Scenes are sorted from lowest to highest cloud_cover, \n",
    "        # so limiting the scenes should only ignore scenes with the most clouds\n",
    "        if scene_count >= 5:\n",
    "            break\n",
    "        \n",
    "        # be wary - for some reason, landsat_product_id gives the L1TP products\n",
    "        # but display_id gives the L2SP products\n",
    "        # choose the product you want carefully\n",
    "        \n",
    "        print(f\"Attempting to download {scene['landsat_product_id']}\")\n",
    "        \n",
    "        \n",
    "        # note that the appears to be an issue where the program will claim that the download failed but \n",
    "        # it actually succeeded - despite this the program will throw an error and the script will not\n",
    "        # continue. As a workaround use a try except block to continue the loop despite the error being \n",
    "        # thrown.\n",
    "        try:\n",
    "            ee.download(scene['landsat_product_id'], output_dir=f'./data_collated/{key}')\n",
    "        except:\n",
    "            print(f\"{scene['landsat_product_id']} may have failed to download! Check to be sure.\")\n",
    "            continue\n",
    "        \n",
    "        # if the file was downloaded successfully, add to scene_count\n",
    "        # it seems level 2 products are downloaded with .tar\n",
    "        if os.path.exists(f\"./data_collated/{key}/{scene['landsat_product_id']}.tar\"):\n",
    "            print(f\"{scene['landsat_product_id']} downloaded successfully!\")\n",
    "            scene_count += 1\n",
    "\n",
    "ee.logout()"
   ]
  },
  {
   "cell_type": "code",
   "execution_count": 6,
   "id": "3b639c35",
   "metadata": {},
   "outputs": [],
   "source": [
    "# ## Code to set up a bunch of folders in for data download\n",
    "# base_dir = \"./data_collated\"\n",
    "\n",
    "# years = range(2013, 2023)\n",
    "\n",
    "# for year in years:\n",
    "#     year_folder = os.path.join(base_dir, str(year))\n",
    "#     if not os.path.exists(year_folder):\n",
    "#         os.mkdir(year_folder)"
   ]
  },
  {
   "cell_type": "code",
   "execution_count": 8,
   "id": "b28339e3",
   "metadata": {},
   "outputs": [
    {
     "name": "stdout",
     "output_type": "stream",
     "text": [
      "LC08_L2SP_125059_20210703_20210712_02_T1\n",
      "LC08_L2SP_125059_20210601_20210608_02_T1\n",
      "LC08_L2SP_125059_20210313_20210318_02_T1\n"
     ]
    }
   ],
   "source": [
    "# use if you already have some scenes downloaded - this will help skip those scenes\n",
    "existing_scenes = os.listdir(\"./data\")\n",
    "\n",
    "scenes_to_dl = []\n",
    "\n",
    "for scene in scenes:\n",
    "    # be wary - for some reason, landsat_product_id gives the L1TP products\n",
    "    # but display_id gives the L2SP products\n",
    "    # choose the product you want carefully\n",
    "    product_id = scene['display_id']\n",
    "    if product_id not in existing_scenes:\n",
    "        scenes_to_dl.append(product_id)"
   ]
  }
 ],
 "metadata": {
  "kernelspec": {
   "display_name": "Python [conda env:landsat]",
   "language": "python",
   "name": "conda-env-landsat-py"
  },
  "language_info": {
   "codemirror_mode": {
    "name": "ipython",
    "version": 3
   },
   "file_extension": ".py",
   "mimetype": "text/x-python",
   "name": "python",
   "nbconvert_exporter": "python",
   "pygments_lexer": "ipython3",
   "version": "3.11.5"
  },
  "varInspector": {
   "cols": {
    "lenName": 16,
    "lenType": 16,
    "lenVar": 40
   },
   "kernels_config": {
    "python": {
     "delete_cmd_postfix": "",
     "delete_cmd_prefix": "del ",
     "library": "var_list.py",
     "varRefreshCmd": "print(var_dic_list())"
    },
    "r": {
     "delete_cmd_postfix": ") ",
     "delete_cmd_prefix": "rm(",
     "library": "var_list.r",
     "varRefreshCmd": "cat(var_dic_list()) "
    }
   },
   "types_to_exclude": [
    "module",
    "function",
    "builtin_function_or_method",
    "instance",
    "_Feature"
   ],
   "window_display": false
  }
 },
 "nbformat": 4,
 "nbformat_minor": 5
}
