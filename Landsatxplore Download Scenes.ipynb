{
 "cells": [
  {
   "cell_type": "code",
   "execution_count": 4,
   "id": "59e5b62e",
   "metadata": {},
   "outputs": [
    {
     "name": "stdout",
     "output_type": "stream",
     "text": [
      "Download failed with dataset id 1 of 3. Re-trying with the next one.\n"
     ]
    },
    {
     "name": "stderr",
     "output_type": "stream",
     "text": [
      "760MB [03:51, 3.44MB/s]                                                                                                \n"
     ]
    },
    {
     "name": "stdout",
     "output_type": "stream",
     "text": [
      "None of the archived ids succeeded! Update necessary!\n"
     ]
    },
    {
     "ename": "EarthExplorerError",
     "evalue": "",
     "output_type": "error",
     "traceback": [
      "\u001b[1;31m---------------------------------------------------------------------------\u001b[0m",
      "\u001b[1;31mEarthExplorerError\u001b[0m                        Traceback (most recent call last)",
      "File \u001b[1;32m~\\anaconda3\\lib\\site-packages\\landsatxplore\\earthexplorer.py:196\u001b[0m, in \u001b[0;36mEarthExplorer.download\u001b[1;34m(self, identifier, output_dir, dataset, timeout, skip, overwrite)\u001b[0m\n\u001b[0;32m    193\u001b[0m     url \u001b[38;5;241m=\u001b[39m EE_DOWNLOAD_URL\u001b[38;5;241m.\u001b[39mformat(\n\u001b[0;32m    194\u001b[0m         data_product_id\u001b[38;5;241m=\u001b[39mdataset_id, entity_id\u001b[38;5;241m=\u001b[39mentity_id\n\u001b[0;32m    195\u001b[0m     )\n\u001b[1;32m--> 196\u001b[0m     filename \u001b[38;5;241m=\u001b[39m \u001b[38;5;28;43mself\u001b[39;49m\u001b[38;5;241;43m.\u001b[39;49m\u001b[43m_download\u001b[49m\u001b[43m(\u001b[49m\n\u001b[0;32m    197\u001b[0m \u001b[43m        \u001b[49m\u001b[43murl\u001b[49m\u001b[43m,\u001b[49m\u001b[43m \u001b[49m\u001b[43moutput_dir\u001b[49m\u001b[43m,\u001b[49m\u001b[43m \u001b[49m\u001b[43mtimeout\u001b[49m\u001b[38;5;241;43m=\u001b[39;49m\u001b[43mtimeout\u001b[49m\u001b[43m,\u001b[49m\u001b[43m \u001b[49m\u001b[43mskip\u001b[49m\u001b[38;5;241;43m=\u001b[39;49m\u001b[43mskip\u001b[49m\u001b[43m,\u001b[49m\u001b[43m \u001b[49m\u001b[43moverwrite\u001b[49m\u001b[38;5;241;43m=\u001b[39;49m\u001b[43moverwrite\u001b[49m\n\u001b[0;32m    198\u001b[0m \u001b[43m    \u001b[49m\u001b[43m)\u001b[49m\n\u001b[0;32m    199\u001b[0m \u001b[38;5;28;01mexcept\u001b[39;00m EarthExplorerError:\n",
      "File \u001b[1;32m~\\anaconda3\\lib\\site-packages\\landsatxplore\\earthexplorer.py:86\u001b[0m, in \u001b[0;36mEarthExplorer._download\u001b[1;34m(self, url, output_dir, timeout, chunk_size, skip, overwrite)\u001b[0m\n\u001b[0;32m     85\u001b[0m \u001b[38;5;28;01mif\u001b[39;00m error_msg:\n\u001b[1;32m---> 86\u001b[0m     \u001b[38;5;28;01mraise\u001b[39;00m EarthExplorerError(error_msg)\n\u001b[0;32m     87\u001b[0m download_url \u001b[38;5;241m=\u001b[39m r\u001b[38;5;241m.\u001b[39mjson()\u001b[38;5;241m.\u001b[39mget(\u001b[38;5;124m\"\u001b[39m\u001b[38;5;124murl\u001b[39m\u001b[38;5;124m\"\u001b[39m)\n",
      "\u001b[1;31mEarthExplorerError\u001b[0m: Download is not available",
      "\nDuring handling of the above exception, another exception occurred:\n",
      "\u001b[1;31mEarthExplorerError\u001b[0m                        Traceback (most recent call last)",
      "Cell \u001b[1;32mIn[4], line 19\u001b[0m\n\u001b[0;32m     16\u001b[0m f\u001b[38;5;241m.\u001b[39mclose()\n\u001b[0;32m     18\u001b[0m \u001b[38;5;28;01mfor\u001b[39;00m scene \u001b[38;5;129;01min\u001b[39;00m lines:\n\u001b[1;32m---> 19\u001b[0m     \u001b[43mee\u001b[49m\u001b[38;5;241;43m.\u001b[39;49m\u001b[43mdownload\u001b[49m\u001b[43m(\u001b[49m\u001b[43mscene\u001b[49m\u001b[43m,\u001b[49m\u001b[43m \u001b[49m\u001b[43moutput_dir\u001b[49m\u001b[38;5;241;43m=\u001b[39;49m\u001b[38;5;124;43m'\u001b[39;49m\u001b[38;5;124;43m./data\u001b[39;49m\u001b[38;5;124;43m'\u001b[39;49m\u001b[43m)\u001b[49m\n\u001b[0;32m     21\u001b[0m ee\u001b[38;5;241m.\u001b[39mlogout()\n",
      "File \u001b[1;32m~\\anaconda3\\lib\\site-packages\\landsatxplore\\earthexplorer.py:205\u001b[0m, in \u001b[0;36mEarthExplorer.download\u001b[1;34m(self, identifier, output_dir, dataset, timeout, skip, overwrite)\u001b[0m\n\u001b[0;32m    203\u001b[0m         \u001b[38;5;28;01melse\u001b[39;00m:\n\u001b[0;32m    204\u001b[0m             \u001b[38;5;28mprint\u001b[39m(\u001b[38;5;124m'\u001b[39m\u001b[38;5;124mNone of the archived ids succeeded! Update necessary!\u001b[39m\u001b[38;5;124m'\u001b[39m)\n\u001b[1;32m--> 205\u001b[0m             \u001b[38;5;28;01mraise\u001b[39;00m EarthExplorerError()\n\u001b[0;32m    206\u001b[0m \u001b[38;5;28;01mreturn\u001b[39;00m filename\n",
      "\u001b[1;31mEarthExplorerError\u001b[0m: "
     ]
    }
   ],
   "source": [
    "# prior to executing this code I ran the following in the command line colon \n",
    "# landsatxplore search --dataset landsat_ot_c2_l2 --location 1.3521 103.8198 --start 2013-01-01 --end 2023-01-01 --clouds 20 > results.csv\n",
    "# this allows me to find all scenes involving Singapore that have a cloud coverage of 20% or less;\n",
    "# these results are then saved into a CSV file\n",
    "# I then manually selected all scenes from the same month in order to remove all seasonal biases\n",
    "\n",
    "from landsatxplore.earthexplorer import EarthExplorer\n",
    "\n",
    "# Sign in to earthexplorer\n",
    "ee = EarthExplorer(\"pinnacle55\", \"KM89xq6rSRZ6zJP\")\n",
    "\n",
    "# Read the aforementioned csv and get the scene IDs\n",
    "with open(\"landsat_IDs.csv\") as f:\n",
    "    lines = [line.rstrip('\\n') for line in f]\n",
    "    \n",
    "f.close()"
   ]
  },
  {
   "cell_type": "code",
   "execution_count": 5,
   "id": "08ae9a7a",
   "metadata": {},
   "outputs": [
    {
     "name": "stdout",
     "output_type": "stream",
     "text": [
      "Download failed with dataset id 1 of 3. Re-trying with the next one.\n",
      "None of the archived ids succeeded! Update necessary!\n",
      "LC08_L2SP_125059_20220401_20220406_02_T1 failed to download!\n",
      "Download failed with dataset id 1 of 3. Re-trying with the next one.\n"
     ]
    },
    {
     "name": "stderr",
     "output_type": "stream",
     "text": [
      "773MB [03:01, 4.46MB/s]                                                                                                \n"
     ]
    },
    {
     "name": "stdout",
     "output_type": "stream",
     "text": [
      "None of the archived ids succeeded! Update necessary!\n",
      "LC08_L2SP_125059_20210617_20210622_02_T1 failed to download!\n",
      "Download failed with dataset id 1 of 3. Re-trying with the next one.\n"
     ]
    },
    {
     "name": "stderr",
     "output_type": "stream",
     "text": [
      "100%|███████████████████████████████████████████████████████████████████████████████| 748M/748M [02:48<00:00, 4.64MB/s]\n"
     ]
    },
    {
     "name": "stdout",
     "output_type": "stream",
     "text": [
      "None of the archived ids succeeded! Update necessary!\n",
      "LC08_L2SP_125059_20200716_20200911_02_T1 failed to download!\n",
      "Download failed with dataset id 1 of 3. Re-trying with the next one.\n"
     ]
    },
    {
     "name": "stderr",
     "output_type": "stream",
     "text": [
      "804MB [02:56, 4.79MB/s]                                                                                                \n"
     ]
    },
    {
     "name": "stdout",
     "output_type": "stream",
     "text": [
      "None of the archived ids succeeded! Update necessary!\n",
      "LC08_L2SP_125059_20190527_20200828_02_T1 failed to download!\n",
      "Download failed with dataset id 1 of 3. Re-trying with the next one.\n"
     ]
    },
    {
     "name": "stderr",
     "output_type": "stream",
     "text": [
      "100%|███████████████████████████████████████████████████████████████████████████████| 762M/762M [02:50<00:00, 4.69MB/s]\n"
     ]
    },
    {
     "name": "stdout",
     "output_type": "stream",
     "text": [
      "None of the archived ids succeeded! Update necessary!\n",
      "LC08_L2SP_125059_20180508_20200901_02_T1 failed to download!\n",
      "Download failed with dataset id 1 of 3. Re-trying with the next one.\n"
     ]
    },
    {
     "name": "stderr",
     "output_type": "stream",
     "text": [
      "796MB [02:57, 4.70MB/s]                                                                                                \n"
     ]
    },
    {
     "name": "stdout",
     "output_type": "stream",
     "text": [
      "None of the archived ids succeeded! Update necessary!\n",
      "LC08_L2SP_125059_20170724_20200903_02_T1 failed to download!\n",
      "Download failed with dataset id 1 of 3. Re-trying with the next one.\n"
     ]
    },
    {
     "name": "stderr",
     "output_type": "stream",
     "text": [
      " 98%|█████████████████████████████████████████████████████████████████████████████  | 773M/793M [03:32<00:05, 3.81MB/s]\n"
     ]
    },
    {
     "name": "stdout",
     "output_type": "stream",
     "text": [
      "LC08_L2SP_125059_20160502_20200907_02_T1 failed to download!\n",
      "LC08_L2SP_125059_20150414_20200909_02_T1 failed to download!\n",
      "Download failed with dataset id 1 of 3. Re-trying with the next one.\n"
     ]
    },
    {
     "name": "stderr",
     "output_type": "stream",
     "text": [
      "100%|███████████████████████████████████████████████████████████████████████████████| 743M/743M [03:01<00:00, 4.28MB/s]\n"
     ]
    },
    {
     "name": "stdout",
     "output_type": "stream",
     "text": [
      "None of the archived ids succeeded! Update necessary!\n",
      "LC08_L2SP_125059_20140513_20200911_02_T1 failed to download!\n",
      "Download failed with dataset id 1 of 3. Re-trying with the next one.\n"
     ]
    },
    {
     "name": "stderr",
     "output_type": "stream",
     "text": [
      "100%|███████████████████████████████████████████████████████████████████████████████| 671M/671M [02:51<00:00, 4.11MB/s]\n"
     ]
    },
    {
     "name": "stdout",
     "output_type": "stream",
     "text": [
      "None of the archived ids succeeded! Update necessary!\n",
      "LC08_L2SP_125059_20130627_20200912_02_T1 failed to download!\n"
     ]
    }
   ],
   "source": [
    "for scene in lines:\n",
    "    # note that the appears to be an issue where the program will claim that the download failed but \n",
    "    # it actually succeeded - despite this the program will throw an error and the script will not\n",
    "    # continue. As a workaround use a try except block to continue the loop despite the error being \n",
    "    # thrown.\n",
    "\n",
    "    try:\n",
    "        ee.download(scene, output_dir='./data')\n",
    "    except:\n",
    "        print(f\"{scene} failed to download!\")\n",
    "        continue\n",
    "\n",
    "ee.logout()"
   ]
  },
  {
   "cell_type": "code",
   "execution_count": null,
   "id": "63f02766",
   "metadata": {},
   "outputs": [],
   "source": []
  }
 ],
 "metadata": {
  "kernelspec": {
   "display_name": "Python 3 (ipykernel)",
   "language": "python",
   "name": "python3"
  },
  "language_info": {
   "codemirror_mode": {
    "name": "ipython",
    "version": 3
   },
   "file_extension": ".py",
   "mimetype": "text/x-python",
   "name": "python",
   "nbconvert_exporter": "python",
   "pygments_lexer": "ipython3",
   "version": "3.8.17"
  },
  "varInspector": {
   "cols": {
    "lenName": 16,
    "lenType": 16,
    "lenVar": 40
   },
   "kernels_config": {
    "python": {
     "delete_cmd_postfix": "",
     "delete_cmd_prefix": "del ",
     "library": "var_list.py",
     "varRefreshCmd": "print(var_dic_list())"
    },
    "r": {
     "delete_cmd_postfix": ") ",
     "delete_cmd_prefix": "rm(",
     "library": "var_list.r",
     "varRefreshCmd": "cat(var_dic_list()) "
    }
   },
   "types_to_exclude": [
    "module",
    "function",
    "builtin_function_or_method",
    "instance",
    "_Feature"
   ],
   "window_display": false
  }
 },
 "nbformat": 4,
 "nbformat_minor": 5
}
