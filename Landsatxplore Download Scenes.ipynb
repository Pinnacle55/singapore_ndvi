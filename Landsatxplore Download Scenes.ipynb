{
 "cells": [
  {
   "cell_type": "code",
   "execution_count": 1,
   "id": "59e5b62e",
   "metadata": {},
   "outputs": [
    {
     "name": "stdout",
     "output_type": "stream",
     "text": [
      "Download failed with dataset id 1 of 3. Re-trying with the next one.\n",
      "Download failed with dataset id 2 of 3. Re-trying with the next one.\n"
     ]
    },
    {
     "name": "stderr",
     "output_type": "stream",
     "text": [
      "100%|███████████████████████████████████████████████████████████████████████████████| 809M/809M [04:29<00:00, 3.14MB/s]\n"
     ]
    },
    {
     "name": "stdout",
     "output_type": "stream",
     "text": [
      "Download failed with dataset id 1 of 3. Re-trying with the next one.\n"
     ]
    },
    {
     "name": "stderr",
     "output_type": "stream",
     "text": [
      "810MB [01:58, 7.14MB/s]                                                                                                \n"
     ]
    },
    {
     "name": "stdout",
     "output_type": "stream",
     "text": [
      "None of the archived ids succeeded! Update necessary!\n",
      "LC08_L2SP_125059_20220519_20220525_02_T1 may have failed to download! Check to be sure.\n",
      "Download failed with dataset id 1 of 3. Re-trying with the next one.\n"
     ]
    },
    {
     "name": "stderr",
     "output_type": "stream",
     "text": [
      "787MB [01:55, 7.14MB/s]                                                                                                \n"
     ]
    },
    {
     "name": "stdout",
     "output_type": "stream",
     "text": [
      "None of the archived ids succeeded! Update necessary!\n",
      "LC08_L2SP_125059_20220417_20220420_02_T1 may have failed to download! Check to be sure.\n",
      "Download failed with dataset id 1 of 3. Re-trying with the next one.\n"
     ]
    },
    {
     "name": "stderr",
     "output_type": "stream",
     "text": [
      "100%|███████████████████████████████████████████████████████████████████████████████| 830M/830M [02:08<00:00, 6.76MB/s]\n"
     ]
    },
    {
     "name": "stdout",
     "output_type": "stream",
     "text": [
      "None of the archived ids succeeded! Update necessary!\n",
      "LC09_L2SP_125059_20220324_20230424_02_T1 may have failed to download! Check to be sure.\n"
     ]
    }
   ],
   "source": [
    "# prior to executing this code I ran the following in the command line colon \n",
    "# landsatxplore search --dataset landsat_ot_c2_l2 --location 1.3521 103.8198 --start 2013-01-01 --end 2023-01-01 --clouds 20 > results.csv\n",
    "# this allows me to find all scenes involving Singapore that have a cloud coverage of 20% or less;\n",
    "# these results are then saved into a CSV file\n",
    "# I then manually selected all scenes from the same month in order to remove all seasonal biases\n",
    "\n",
    "from landsatxplore.earthexplorer import EarthExplorer\n",
    "\n",
    "# Sign in to earthexplorer\n",
    "ee = EarthExplorer(\"username\", \"password\")\n",
    "\n",
    "# Read the aforementioned csv and get the scene IDs\n",
    "with open(\"results.csv\") as f:\n",
    "    lines = [line.rstrip('\\n') for line in f]\n",
    "f.close()\n",
    "\n",
    "for scene in lines:\n",
    "    # note that the appears to be an issue where the program will claim that the download failed but \n",
    "    # it actually succeeded - despite this the program will throw an error and the script will not\n",
    "    # continue. As a workaround use a try except block to continue the loop despite the error being \n",
    "    # thrown.\n",
    "\n",
    "    try:\n",
    "        ee.download(scene, output_dir='./data_cloud_imputing')\n",
    "    except:\n",
    "        print(f\"{scene} may have failed to download! Check to be sure.\")\n",
    "        continue\n",
    "\n",
    "ee.logout()"
   ]
  },
  {
   "cell_type": "code",
   "execution_count": 5,
   "id": "08ae9a7a",
   "metadata": {},
   "outputs": [
    {
     "name": "stdout",
     "output_type": "stream",
     "text": [
      "Download failed with dataset id 1 of 3. Re-trying with the next one.\n",
      "None of the archived ids succeeded! Update necessary!\n",
      "LC08_L2SP_125059_20220401_20220406_02_T1 failed to download!\n",
      "Download failed with dataset id 1 of 3. Re-trying with the next one.\n"
     ]
    },
    {
     "name": "stderr",
     "output_type": "stream",
     "text": [
      "773MB [03:01, 4.46MB/s]                                                                                                \n"
     ]
    },
    {
     "name": "stdout",
     "output_type": "stream",
     "text": [
      "None of the archived ids succeeded! Update necessary!\n",
      "LC08_L2SP_125059_20210617_20210622_02_T1 failed to download!\n",
      "Download failed with dataset id 1 of 3. Re-trying with the next one.\n"
     ]
    },
    {
     "name": "stderr",
     "output_type": "stream",
     "text": [
      "100%|███████████████████████████████████████████████████████████████████████████████| 748M/748M [02:48<00:00, 4.64MB/s]\n"
     ]
    },
    {
     "name": "stdout",
     "output_type": "stream",
     "text": [
      "None of the archived ids succeeded! Update necessary!\n",
      "LC08_L2SP_125059_20200716_20200911_02_T1 failed to download!\n",
      "Download failed with dataset id 1 of 3. Re-trying with the next one.\n"
     ]
    },
    {
     "name": "stderr",
     "output_type": "stream",
     "text": [
      "804MB [02:56, 4.79MB/s]                                                                                                \n"
     ]
    },
    {
     "name": "stdout",
     "output_type": "stream",
     "text": [
      "None of the archived ids succeeded! Update necessary!\n",
      "LC08_L2SP_125059_20190527_20200828_02_T1 failed to download!\n",
      "Download failed with dataset id 1 of 3. Re-trying with the next one.\n"
     ]
    },
    {
     "name": "stderr",
     "output_type": "stream",
     "text": [
      "100%|███████████████████████████████████████████████████████████████████████████████| 762M/762M [02:50<00:00, 4.69MB/s]\n"
     ]
    },
    {
     "name": "stdout",
     "output_type": "stream",
     "text": [
      "None of the archived ids succeeded! Update necessary!\n",
      "LC08_L2SP_125059_20180508_20200901_02_T1 failed to download!\n",
      "Download failed with dataset id 1 of 3. Re-trying with the next one.\n"
     ]
    },
    {
     "name": "stderr",
     "output_type": "stream",
     "text": [
      "796MB [02:57, 4.70MB/s]                                                                                                \n"
     ]
    },
    {
     "name": "stdout",
     "output_type": "stream",
     "text": [
      "None of the archived ids succeeded! Update necessary!\n",
      "LC08_L2SP_125059_20170724_20200903_02_T1 failed to download!\n",
      "Download failed with dataset id 1 of 3. Re-trying with the next one.\n"
     ]
    },
    {
     "name": "stderr",
     "output_type": "stream",
     "text": [
      " 98%|█████████████████████████████████████████████████████████████████████████████  | 773M/793M [03:32<00:05, 3.81MB/s]\n"
     ]
    },
    {
     "name": "stdout",
     "output_type": "stream",
     "text": [
      "LC08_L2SP_125059_20160502_20200907_02_T1 failed to download!\n",
      "LC08_L2SP_125059_20150414_20200909_02_T1 failed to download!\n",
      "Download failed with dataset id 1 of 3. Re-trying with the next one.\n"
     ]
    },
    {
     "name": "stderr",
     "output_type": "stream",
     "text": [
      "100%|███████████████████████████████████████████████████████████████████████████████| 743M/743M [03:01<00:00, 4.28MB/s]\n"
     ]
    },
    {
     "name": "stdout",
     "output_type": "stream",
     "text": [
      "None of the archived ids succeeded! Update necessary!\n",
      "LC08_L2SP_125059_20140513_20200911_02_T1 failed to download!\n",
      "Download failed with dataset id 1 of 3. Re-trying with the next one.\n"
     ]
    },
    {
     "name": "stderr",
     "output_type": "stream",
     "text": [
      "100%|███████████████████████████████████████████████████████████████████████████████| 671M/671M [02:51<00:00, 4.11MB/s]\n"
     ]
    },
    {
     "name": "stdout",
     "output_type": "stream",
     "text": [
      "None of the archived ids succeeded! Update necessary!\n",
      "LC08_L2SP_125059_20130627_20200912_02_T1 failed to download!\n"
     ]
    }
   ],
   "source": [
    "for scene in lines:\n",
    "    # note that the appears to be an issue where the program will claim that the download failed but \n",
    "    # it actually succeeded - despite this the program will throw an error and the script will not\n",
    "    # continue. As a workaround use a try except block to continue the loop despite the error being \n",
    "    # thrown.\n",
    "\n",
    "    try:\n",
    "        ee.download(scene, output_dir='./data')\n",
    "    except:\n",
    "        print(f\"{scene} failed to download!\")\n",
    "        continue\n",
    "\n",
    "ee.logout()"
   ]
  },
  {
   "cell_type": "code",
   "execution_count": null,
   "id": "63f02766",
   "metadata": {},
   "outputs": [],
   "source": []
  }
 ],
 "metadata": {
  "kernelspec": {
   "display_name": "Python 3 (ipykernel)",
   "language": "python",
   "name": "python3"
  },
  "language_info": {
   "codemirror_mode": {
    "name": "ipython",
    "version": 3
   },
   "file_extension": ".py",
   "mimetype": "text/x-python",
   "name": "python",
   "nbconvert_exporter": "python",
   "pygments_lexer": "ipython3",
   "version": "3.8.17"
  },
  "varInspector": {
   "cols": {
    "lenName": 16,
    "lenType": 16,
    "lenVar": 40
   },
   "kernels_config": {
    "python": {
     "delete_cmd_postfix": "",
     "delete_cmd_prefix": "del ",
     "library": "var_list.py",
     "varRefreshCmd": "print(var_dic_list())"
    },
    "r": {
     "delete_cmd_postfix": ") ",
     "delete_cmd_prefix": "rm(",
     "library": "var_list.r",
     "varRefreshCmd": "cat(var_dic_list()) "
    }
   },
   "types_to_exclude": [
    "module",
    "function",
    "builtin_function_or_method",
    "instance",
    "_Feature"
   ],
   "window_display": false
  }
 },
 "nbformat": 4,
 "nbformat_minor": 5
}
