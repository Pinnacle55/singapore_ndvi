{
 "cells": [
  {
   "cell_type": "code",
   "execution_count": 6,
   "id": "c427b393",
   "metadata": {},
   "outputs": [],
   "source": [
    "# Run this in an environment that has gdal installed\n",
    "import geopandas as gpd\n",
    "import numpy as np\n",
    "import os, sys\n",
    "from glob import glob\n",
    "\n",
    "study_area = gpd.read_file(\"singapore_boundary.geojson\")\n",
    "\n",
    "# Remember to switch study area to correct extent\n",
    "study_area = study_area.to_crs(\"EPSG:32648\")\n",
    "\n",
    "xmin, ymin, xmax, ymax = study_area.total_bounds"
   ]
  },
  {
   "cell_type": "code",
   "execution_count": null,
   "id": "06b74744",
   "metadata": {},
   "outputs": [],
   "source": [
    "# provide target directory as first argument in command line call\n",
    "target_dir = sys.argv[1]\n",
    "\n",
    "band_files = glob(\n",
    "    os.path.join(\n",
    "        target_dir,\n",
    "        \"LC08_L2SP*S*_B*.tif\",\n",
    "    )\n",
    ")\n",
    "\n",
    "qa_files = glob(\n",
    "    os.path.join(\n",
    "        target_dir,\n",
    "        \"*QA_PIXEL.tif\",\n",
    "    )\n",
    ")\n",
    "\n",
    "# find all band files and qa files\n",
    "files = band_files + qa_files"
   ]
  },
  {
   "cell_type": "code",
   "execution_count": 12,
   "id": "4f0d7a55",
   "metadata": {},
   "outputs": [
    {
     "data": {
      "text/plain": [
       "['C:\\\\Users\\\\Jonny\\\\Desktop\\\\Jupyter Projects\\\\Singapore NDVI\\\\data\\\\LC08_L2SP_125059_20220401_20220406_02_T1\\\\LC08_L2SP_125059_20220401_20220406_02_T1_SR_B1.TIF',\n",
       " 'C:\\\\Users\\\\Jonny\\\\Desktop\\\\Jupyter Projects\\\\Singapore NDVI\\\\data\\\\LC08_L2SP_125059_20220401_20220406_02_T1\\\\LC08_L2SP_125059_20220401_20220406_02_T1_SR_B2.TIF',\n",
       " 'C:\\\\Users\\\\Jonny\\\\Desktop\\\\Jupyter Projects\\\\Singapore NDVI\\\\data\\\\LC08_L2SP_125059_20220401_20220406_02_T1\\\\LC08_L2SP_125059_20220401_20220406_02_T1_SR_B3.TIF',\n",
       " 'C:\\\\Users\\\\Jonny\\\\Desktop\\\\Jupyter Projects\\\\Singapore NDVI\\\\data\\\\LC08_L2SP_125059_20220401_20220406_02_T1\\\\LC08_L2SP_125059_20220401_20220406_02_T1_SR_B4.TIF',\n",
       " 'C:\\\\Users\\\\Jonny\\\\Desktop\\\\Jupyter Projects\\\\Singapore NDVI\\\\data\\\\LC08_L2SP_125059_20220401_20220406_02_T1\\\\LC08_L2SP_125059_20220401_20220406_02_T1_SR_B5.TIF',\n",
       " 'C:\\\\Users\\\\Jonny\\\\Desktop\\\\Jupyter Projects\\\\Singapore NDVI\\\\data\\\\LC08_L2SP_125059_20220401_20220406_02_T1\\\\LC08_L2SP_125059_20220401_20220406_02_T1_SR_B6.TIF',\n",
       " 'C:\\\\Users\\\\Jonny\\\\Desktop\\\\Jupyter Projects\\\\Singapore NDVI\\\\data\\\\LC08_L2SP_125059_20220401_20220406_02_T1\\\\LC08_L2SP_125059_20220401_20220406_02_T1_SR_B7.TIF',\n",
       " 'C:\\\\Users\\\\Jonny\\\\Desktop\\\\Jupyter Projects\\\\Singapore NDVI\\\\data\\\\LC08_L2SP_125059_20220401_20220406_02_T1\\\\LC08_L2SP_125059_20220401_20220406_02_T1_ST_B10.TIF',\n",
       " 'C:\\\\Users\\\\Jonny\\\\Desktop\\\\Jupyter Projects\\\\Singapore NDVI\\\\data\\\\LC08_L2SP_125059_20220401_20220406_02_T1\\\\LC08_L2SP_125059_20220401_20220406_02_T1_QA_PIXEL.TIF']"
      ]
     },
     "execution_count": 12,
     "metadata": {},
     "output_type": "execute_result"
    }
   ],
   "source": [
    "# Note that any existing stacked_cropped tif should be deleted before running\n",
    "\n",
    "# Very interesting, it seems that gdal command line arguments don't work if you provide them with\n",
    "# os.joined path names that have folders with spaces in them\n",
    "\n",
    "# You can work around this by manually adding open quotes to the command line call itself\n",
    "for file in files:\n",
    "    # -tr is a call that sets the resolution of the image\n",
    "    command4 = 'gdalwarp -t_srs {crs} -te {x_min} {y_min} {x_max} {y_max} -tr 30 30 -r bilinear \"{src_file}\" \"{dst_file}\" -co COMPRESS=DEFLATE'\n",
    "    os.system(command4.format(\n",
    "        crs = f\"EPSG:32648\", \n",
    "        x_min = np.floor(xmin),\n",
    "        y_min = np.floor(ymin),\n",
    "        x_max = np.ceil(xmax),\n",
    "        y_max = np.ceil(ymax),\n",
    "        src_file = f\"{file}\",\n",
    "        dst_file = f\"{file.split('.')[0]}_CROPPED.TIF\"\n",
    "    ))"
   ]
  },
  {
   "cell_type": "code",
   "execution_count": null,
   "id": "26d9a3fb",
   "metadata": {},
   "outputs": [],
   "source": []
  }
 ],
 "metadata": {
  "kernelspec": {
   "display_name": "Python [conda env:gdal_new]",
   "language": "python",
   "name": "conda-env-gdal_new-py"
  },
  "language_info": {
   "codemirror_mode": {
    "name": "ipython",
    "version": 3
   },
   "file_extension": ".py",
   "mimetype": "text/x-python",
   "name": "python",
   "nbconvert_exporter": "python",
   "pygments_lexer": "ipython3",
   "version": "3.11.5"
  }
 },
 "nbformat": 4,
 "nbformat_minor": 5
}
