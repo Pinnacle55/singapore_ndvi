{
 "cells": [
  {
   "cell_type": "code",
   "execution_count": 20,
   "id": "d5d4ff2d",
   "metadata": {},
   "outputs": [],
   "source": [
    "# Run this in an environment that has gdal installed\n",
    "import geopandas as gpd\n",
    "import numpy as np\n",
    "import os, sys"
   ]
  },
  {
   "cell_type": "code",
   "execution_count": 25,
   "id": "635065d2",
   "metadata": {},
   "outputs": [],
   "source": [
    "study_area = gpd.read_file(\"singapore_boundary.geojson\")\n",
    "\n",
    "# Remember to switch study area to correct extent\n",
    "study_area = study_area.to_crs(\"EPSG:32648\")\n",
    "\n",
    "xmin, ymin, xmax, ymax = study_area.total_bounds"
   ]
  },
  {
   "cell_type": "code",
   "execution_count": 22,
   "id": "0c3a6bf9",
   "metadata": {},
   "outputs": [
    {
     "data": {
      "text/plain": [
       "['C:\\\\Users\\\\tranq\\\\Documents\\\\Jupyter Root Folder\\\\Singapore NDVI\\\\20230316_IMG_DATA\\\\T48NUG_20230316T031519_B01.jp2',\n",
       " 'C:\\\\Users\\\\tranq\\\\Documents\\\\Jupyter Root Folder\\\\Singapore NDVI\\\\20230316_IMG_DATA\\\\T48NUG_20230316T031519_B02.jp2',\n",
       " 'C:\\\\Users\\\\tranq\\\\Documents\\\\Jupyter Root Folder\\\\Singapore NDVI\\\\20230316_IMG_DATA\\\\T48NUG_20230316T031519_B03.jp2',\n",
       " 'C:\\\\Users\\\\tranq\\\\Documents\\\\Jupyter Root Folder\\\\Singapore NDVI\\\\20230316_IMG_DATA\\\\T48NUG_20230316T031519_B04.jp2',\n",
       " 'C:\\\\Users\\\\tranq\\\\Documents\\\\Jupyter Root Folder\\\\Singapore NDVI\\\\20230316_IMG_DATA\\\\T48NUG_20230316T031519_B05.jp2',\n",
       " 'C:\\\\Users\\\\tranq\\\\Documents\\\\Jupyter Root Folder\\\\Singapore NDVI\\\\20230316_IMG_DATA\\\\T48NUG_20230316T031519_B06.jp2',\n",
       " 'C:\\\\Users\\\\tranq\\\\Documents\\\\Jupyter Root Folder\\\\Singapore NDVI\\\\20230316_IMG_DATA\\\\T48NUG_20230316T031519_B07.jp2',\n",
       " 'C:\\\\Users\\\\tranq\\\\Documents\\\\Jupyter Root Folder\\\\Singapore NDVI\\\\20230316_IMG_DATA\\\\T48NUG_20230316T031519_B08.jp2',\n",
       " 'C:\\\\Users\\\\tranq\\\\Documents\\\\Jupyter Root Folder\\\\Singapore NDVI\\\\20230316_IMG_DATA\\\\T48NUG_20230316T031519_B09.jp2',\n",
       " 'C:\\\\Users\\\\tranq\\\\Documents\\\\Jupyter Root Folder\\\\Singapore NDVI\\\\20230316_IMG_DATA\\\\T48NUG_20230316T031519_B10.jp2',\n",
       " 'C:\\\\Users\\\\tranq\\\\Documents\\\\Jupyter Root Folder\\\\Singapore NDVI\\\\20230316_IMG_DATA\\\\T48NUG_20230316T031519_B11.jp2',\n",
       " 'C:\\\\Users\\\\tranq\\\\Documents\\\\Jupyter Root Folder\\\\Singapore NDVI\\\\20230316_IMG_DATA\\\\T48NUG_20230316T031519_B12.jp2',\n",
       " 'C:\\\\Users\\\\tranq\\\\Documents\\\\Jupyter Root Folder\\\\Singapore NDVI\\\\20230316_IMG_DATA\\\\T48NUG_20230316T031519_B8A.jp2',\n",
       " 'C:\\\\Users\\\\tranq\\\\Documents\\\\Jupyter Root Folder\\\\Singapore NDVI\\\\20230316_IMG_DATA\\\\T48NUG_20230316T031519_TCI.jp2']"
      ]
     },
     "execution_count": 22,
     "metadata": {},
     "output_type": "execute_result"
    }
   ],
   "source": [
    "current_dir = os.getcwd()\n",
    "\n",
    "# list all files in 20230316\n",
    "filenames = os.listdir(os.path.join(current_dir, \"20230316_IMG_DATA\"))\n",
    "\n",
    "filenames = [os.path.join(current_dir, \"20230316_IMG_DATA\", file) for file in filenames]\n",
    "\n",
    "filenames"
   ]
  },
  {
   "cell_type": "code",
   "execution_count": 23,
   "id": "bcbe7e8a",
   "metadata": {},
   "outputs": [],
   "source": [
    "# for file in filenames:\n",
    "#     print(os.path.join(current_dir, \"20230316_IMG_DATA\", file))"
   ]
  },
  {
   "cell_type": "code",
   "execution_count": null,
   "id": "4cde18e8",
   "metadata": {},
   "outputs": [],
   "source": [
    "# Note that any existing stacked_cropped tif should be deleted before running\n",
    "\n",
    "# Very interesting, it seems that gdal command line arguments don't work if you provide them with\n",
    "# os.joined path names that have folders with spaces in them\n",
    "\n",
    "# You can work around this by manually adding open quotes to the command line call itself\n",
    "for file in filenames:\n",
    "    # -tr is a call that sets the resolution of the image\n",
    "    command4 = 'gdalwarp -t_srs {crs} -te {x_min} {y_min} {x_max} {y_max} -tr 10 10 -r bilinear \"{src_file}\" \"{dst_file}\" -co COMPRESS=DEFLATE'\n",
    "    os.system(command4.format(\n",
    "        crs = f\"EPSG:32648\", \n",
    "        x_min = np.floor(xmin),\n",
    "        y_min = np.floor(ymin),\n",
    "        x_max = np.ceil(xmax),\n",
    "        y_max = np.ceil(ymax),\n",
    "        src_file = f\"{file}\",\n",
    "        dst_file = f\"{file.split('.')[0]}_UPSAMPLED_CROPPED.TIF\"\n",
    "    ))"
   ]
  }
 ],
 "metadata": {
  "kernelspec": {
   "display_name": "Python 3 (ipykernel)",
   "language": "python",
   "name": "python3"
  },
  "language_info": {
   "codemirror_mode": {
    "name": "ipython",
    "version": 3
   },
   "file_extension": ".py",
   "mimetype": "text/x-python",
   "name": "python",
   "nbconvert_exporter": "python",
   "pygments_lexer": "ipython3",
   "version": "3.8.17"
  },
  "varInspector": {
   "cols": {
    "lenName": 16,
    "lenType": 16,
    "lenVar": 40
   },
   "kernels_config": {
    "python": {
     "delete_cmd_postfix": "",
     "delete_cmd_prefix": "del ",
     "library": "var_list.py",
     "varRefreshCmd": "print(var_dic_list())"
    },
    "r": {
     "delete_cmd_postfix": ") ",
     "delete_cmd_prefix": "rm(",
     "library": "var_list.r",
     "varRefreshCmd": "cat(var_dic_list()) "
    }
   },
   "types_to_exclude": [
    "module",
    "function",
    "builtin_function_or_method",
    "instance",
    "_Feature"
   ],
   "window_display": false
  }
 },
 "nbformat": 4,
 "nbformat_minor": 5
}
