{
 "cells": [
  {
   "cell_type": "code",
   "execution_count": 1,
   "id": "8e1390a3",
   "metadata": {
    "scrolled": false
   },
   "outputs": [],
   "source": [
    "from landsatxplore.api import API\n",
    "from glob import glob\n",
    "import os, sys\n",
    "\n",
    "# NB: Python 3.12 has pip install issues. Need to create an environment with python 3.11 for now. "
   ]
  },
  {
   "cell_type": "code",
   "execution_count": 2,
   "id": "61443657",
   "metadata": {},
   "outputs": [],
   "source": [
    "# Initialize a new API instance and get an access key\n",
    "api = API(\"pinnacle55\", \"KM89xq6rSRZ6zJP\")"
   ]
  },
  {
   "cell_type": "code",
   "execution_count": 12,
   "id": "b3d66eb8",
   "metadata": {},
   "outputs": [],
   "source": [
    "# list of years to search\n",
    "years = range(2013, 2023)\n",
    "\n",
    "scene_dict = {}\n",
    "\n",
    "for year in years:\n",
    "\n",
    "    # Search for Landsat TM scenes\n",
    "    scenes = api.search(\n",
    "        dataset='landsat_ot_c2_l2',\n",
    "        latitude=1.3521,\n",
    "        longitude=103.8198,\n",
    "        start_date=f'{year}-02-01', # rainy season ends in Jan, this should be mostly cloudless\n",
    "        end_date=f'{year}-08-01',\n",
    "        max_cloud_cover=40\n",
    "    )\n",
    "    \n",
    "    # sort scenes by amount of cloud cover\n",
    "    scenes = sorted(scenes, key = lambda x: x[\"cloud_cover\"])\n",
    "    \n",
    "    # store scenes in dictionary\n",
    "    scene_dict[str(year)] = scenes\n",
    "\n"
   ]
  },
  {
   "cell_type": "code",
   "execution_count": 14,
   "id": "bcaf6bb6",
   "metadata": {},
   "outputs": [
    {
     "name": "stdout",
     "output_type": "stream",
     "text": [
      "\n",
      "2013 5 20130627\n",
      "2013 19 20130424\n",
      "\n",
      "2014 9 20140513\n",
      "2014 17 20140411\n",
      "2014 23 20140529\n",
      "2014 23 20140222\n",
      "2014 24 20140326\n",
      "2014 30 20140614\n",
      "2014 34 20140310\n",
      "\n",
      "2015 11 20150414\n",
      "2015 22 20150703\n",
      "2015 25 20150225\n",
      "2015 30 20150601\n",
      "2015 34 20150516\n",
      "2015 40 20150313\n",
      "\n",
      "2016 11 20160705\n",
      "2016 18 20160416\n",
      "2016 20 20160502\n",
      "2016 20 20160331\n",
      "2016 28 20160228\n",
      "2016 30 20160315\n",
      "2016 33 20160603\n",
      "2016 38 20160518\n",
      "\n",
      "2017 17 20170724\n",
      "2017 25 20170419\n",
      "2017 28 20170318\n",
      "2017 30 20170708\n",
      "2017 35 20170505\n",
      "2017 40 20170606\n",
      "\n",
      "2018 6 20180524\n",
      "2018 7 20180508\n",
      "2018 12 20180727\n",
      "2018 16 20180217\n",
      "2018 27 20180422\n",
      "\n",
      "2019 18 20190204\n",
      "2019 19 20190527\n",
      "2019 28 20190730\n",
      "2019 31 20190220\n",
      "2019 33 20190714\n",
      "2019 37 20190511\n",
      "\n",
      "2020 11 20200716\n",
      "2020 14 20200310\n",
      "2020 25 20200529\n",
      "2020 35 20200326\n",
      "\n",
      "2021 14 20210617\n",
      "2021 21 20210703\n",
      "2021 31 20210313\n",
      "2021 38 20210601\n",
      "2021 38 20210225\n",
      "\n",
      "2022 13 20220401\n",
      "2022 23 20220628\n",
      "2022 26 20220417\n",
      "2022 26 20220324\n",
      "2022 35 20220730\n",
      "2022 40 20220519\n"
     ]
    }
   ],
   "source": [
    "# check how many scenes per year\n",
    "# to avoid over downloading (each scene is ~1GB, set limit to 5 scenes per year)\n",
    "for key in scene_dict:\n",
    "    print()\n",
    "    for scene in scene_dict[key]:\n",
    "        print(key, scene['cloud_cover'], scene['landsat_product_id'].split('_')[3])"
   ]
  },
  {
   "cell_type": "code",
   "execution_count": null,
   "id": "9bc0193a",
   "metadata": {},
   "outputs": [
    {
     "name": "stdout",
     "output_type": "stream",
     "text": [
      "Downloading scenes in 2013.\n",
      "Attempting to download LC08_L1TP_125059_20130627_20200912_02_T1\n",
      "Download failed with dataset id 1 of 2. Re-trying with the next one.\n"
     ]
    },
    {
     "name": "stderr",
     "output_type": "stream",
     "text": [
      " 40%|███████████████████████████████▉                                               | 385M/955M [01:51<03:10, 3.14MB/s]"
     ]
    }
   ],
   "source": [
    "from landsatxplore.earthexplorer import EarthExplorer\n",
    "\n",
    "# Sign in to earthexplorer\n",
    "ee = EarthExplorer(\"pinnacle55\", \"KM89xq6rSRZ6zJP\")\n",
    "\n",
    "for key in years[:5]:\n",
    "    key = str(key)\n",
    "    print(f\"Downloading scenes in {key}.\")\n",
    "\n",
    "    scene_count = 0\n",
    "    \n",
    "    for scene in scene_dict[key]:     \n",
    "        \n",
    "        # Limit downloads to 5 scenes\n",
    "        # Scenes are sorted from lowest to highest cloud_cover, so limiting the scenes should be alright\n",
    "        if scene_count >= 5:\n",
    "            break\n",
    "        \n",
    "        \n",
    "        # be wary - for some reason, landsat_product_id gives the L1TP products\n",
    "        # but display_id gives the L2SP products\n",
    "        # choose the product you want carefully\n",
    "        print(f\"Attempting to download {scene['landsat_product_id']}\")\n",
    "        \n",
    "        \n",
    "        # note that the appears to be an issue where the program will claim that the download failed but \n",
    "        # it actually succeeded - despite this the program will throw an error and the script will not\n",
    "        # continue. As a workaround use a try except block to continue the loop despite the error being \n",
    "        # thrown.\n",
    "        try:\n",
    "            ee.download(scene['landsat_product_id'], output_dir=f'./data_collated/{key}')\n",
    "        except:\n",
    "            print(f\"{scene['landsat_product_id']} may have failed to download! Check to be sure.\")\n",
    "            continue\n",
    "        \n",
    "        # if the file was downloaded successfully, add to scene_count\n",
    "        # it seems level 2 products are downloaded with .tar\n",
    "        if os.path.exists(f\"./data_collated/{key}/{scene['landsat_product_id']}.tar\"):\n",
    "            print(f\"{scene['landsat_product_id']} downloaded successfully!\")\n",
    "            scene_count += 1\n",
    "\n",
    "ee.logout()"
   ]
  },
  {
   "cell_type": "code",
   "execution_count": 16,
   "id": "3b639c35",
   "metadata": {},
   "outputs": [],
   "source": [
    "### Code to set up a bunch of folders in for data download\n",
    "# base_dir = \"./data_collated\"\n",
    "\n",
    "# years = range(2013, 2023)\n",
    "\n",
    "# for year in years:\n",
    "#     year_folder = os.path.join(base_dir, str(year))\n",
    "#     if not os.path.exists(year_folder):\n",
    "#         os.mkdir(year_folder)"
   ]
  },
  {
   "cell_type": "code",
   "execution_count": 8,
   "id": "b28339e3",
   "metadata": {},
   "outputs": [
    {
     "name": "stdout",
     "output_type": "stream",
     "text": [
      "LC08_L2SP_125059_20210703_20210712_02_T1\n",
      "LC08_L2SP_125059_20210601_20210608_02_T1\n",
      "LC08_L2SP_125059_20210313_20210318_02_T1\n"
     ]
    }
   ],
   "source": [
    "# use if you already have some scenes downloaded - this will help skip those scenes\n",
    "existing_scenes = os.listdir(\"./data\")\n",
    "\n",
    "scenes_to_dl = []\n",
    "\n",
    "for scene in scenes:\n",
    "    # be wary - for some reason, landsat_product_id gives the L1TP products\n",
    "    # but display_id gives the L2SP products\n",
    "    # choose the product you want carefully\n",
    "    product_id = scene['display_id']\n",
    "    if product_id not in existing_scenes:\n",
    "        scenes_to_dl.append(product_id)"
   ]
  }
 ],
 "metadata": {
  "kernelspec": {
   "display_name": "Python [conda env:landsat_python311]",
   "language": "python",
   "name": "conda-env-landsat_python311-py"
  },
  "language_info": {
   "codemirror_mode": {
    "name": "ipython",
    "version": 3
   },
   "file_extension": ".py",
   "mimetype": "text/x-python",
   "name": "python",
   "nbconvert_exporter": "python",
   "pygments_lexer": "ipython3",
   "version": "3.11.5"
  },
  "varInspector": {
   "cols": {
    "lenName": 16,
    "lenType": 16,
    "lenVar": 40
   },
   "kernels_config": {
    "python": {
     "delete_cmd_postfix": "",
     "delete_cmd_prefix": "del ",
     "library": "var_list.py",
     "varRefreshCmd": "print(var_dic_list())"
    },
    "r": {
     "delete_cmd_postfix": ") ",
     "delete_cmd_prefix": "rm(",
     "library": "var_list.r",
     "varRefreshCmd": "cat(var_dic_list()) "
    }
   },
   "types_to_exclude": [
    "module",
    "function",
    "builtin_function_or_method",
    "instance",
    "_Feature"
   ],
   "window_display": false
  }
 },
 "nbformat": 4,
 "nbformat_minor": 5
}
